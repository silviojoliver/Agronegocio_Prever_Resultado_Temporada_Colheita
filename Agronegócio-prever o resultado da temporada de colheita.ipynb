{
 "cells": [
  {
   "cell_type": "markdown",
   "metadata": {
    "id": "xpmZHxI0D2PX"
   },
   "source": [
    "\n",
    "\n",
    "# <font color='GREY'> Ciência de Dados no Agronegócio</font>\n",
    "![](https://lh4.googleusercontent.com/FEEVGz1HWczD9NVToUchpPYErGHi9qK2OsGMD8mrCPxZV12wktL5fx1EDhfyIhT6CCHFkFpMJzjgYgUGJiio7u6FcR6k_xD2u3fOaW57cnFIq9j-wyhc_mtxgTv9ZF6VgKs2kBNW)\n",
    "\n"
   ]
  },
  {
   "cell_type": "markdown",
   "metadata": {
    "id": "XofdlcXRxCET"
   },
   "source": [
    "# Você sabia que aproximadamente **21% do PIB do Brasil** vem do Agronegócio?\n",
    "\n"
   ]
  },
  {
   "cell_type": "markdown",
   "metadata": {
    "id": "gR5bZ93l8UD6"
   },
   "source": [
    "![](https://media.giphy.com/media/xUOxfoRK1bYnn145tm/giphy.gif)\n"
   ]
  },
  {
   "cell_type": "markdown",
   "metadata": {
    "id": "tUQQWZS28Q_v"
   },
   "source": [
    "\n",
    "![](https://cienciadosdados.com/images/2021/ibge.png)"
   ]
  },
  {
   "cell_type": "markdown",
   "metadata": {
    "id": "dyoCtlHX784j"
   },
   "source": [
    "![](https://cienciadosdados.com/images/2021/pib_agro.png)\n",
    "\n"
   ]
  },
  {
   "cell_type": "markdown",
   "metadata": {
    "id": "sg9QERH8787f"
   },
   "source": [
    "![](https://cienciadosdados.com/images/2021/prd_agro.png)\n",
    "\n"
   ]
  },
  {
   "cell_type": "markdown",
   "metadata": {
    "id": "UmgtXzVi79KD"
   },
   "source": [
    "![](https://www.cnabrasil.org.br/assets/images/grafico3panorama_200610_191921.JPG)"
   ]
  },
  {
   "cell_type": "markdown",
   "metadata": {
    "id": "SK0SZrnR8FU_"
   },
   "source": [
    "# Onde a Ciência de Dados pode atuar no Agronegócio?"
   ]
  },
  {
   "cell_type": "markdown",
   "metadata": {
    "id": "_pGf9swuBG8a"
   },
   "source": [
    "Recentemente, observamos o conceito emergente de **agricultura inteligente** que torna a **agricultura mais eficiente e eficaz com a ajuda de algoritmos de alta precisão.**\n",
    "\n",
    "O Aprendizado de Máquina ajuda a quantificar e compreender processos intensivos de dados em ambientes operacionais agrícolas.\n",
    "\n",
    "O aprendizado de máquina está em todo o ciclo de cultivo e colheita. \n",
    "\n",
    "Começa com o plantio de uma semente no solo - desde o preparo do solo, procriação de sementes e medição da alimentação de água - e termina quando as redes neurais fazem a colheita determinando a maturação com a ajuda da visão computacional."
   ]
  },
  {
   "cell_type": "markdown",
   "metadata": {
    "id": "qLTajLtFBmpg"
   },
   "source": [
    "\n",
    "![](https://pordentrodoagro.com.br/wp-content/uploads/2020/04/blogpost_contagem_estande.gif)"
   ]
  },
  {
   "cell_type": "markdown",
   "metadata": {
    "id": "-w5i5GaYBvGP"
   },
   "source": [
    "##Casos Frequentes de uso de Ciência de Dados no Agro"
   ]
  },
  {
   "cell_type": "markdown",
   "metadata": {
    "id": "ITby3b6k-YM9"
   },
   "source": [
    "- Previsão de Demanda dos Produtos e de Insumos para produção\n",
    "- Otimização da Cadeia de Suprimentos\n",
    "- Detecção e Prevenção de Pragas\n",
    "- Otimização da lavoura\n",
    "- Inspeção Visual\n",
    "- Máquinas Autônomas\n",
    "- Gerenciamento de Água\n",
    "- Previsão da Qualidade da Colheita\n",
    "- Detecção de Ervas Daninhas"
   ]
  },
  {
   "cell_type": "markdown",
   "metadata": {
    "id": "JHQ6FGwK_nh3"
   },
   "source": [
    "![](https://www.hidrobeja.pt/video/tr.png)"
   ]
  },
  {
   "cell_type": "markdown",
   "metadata": {
    "id": "komsupKm-YdR"
   },
   "source": [
    "# Um caso especial que **a Ciência de Dados** pode ajudar para o sucesso da colheita é o gerenciamento dos Pesticidas Tóxicos\n",
    "\n",
    "\n",
    "O trabalho de um fazendeiro é um verdadeiro teste de resistência e determinação. \n",
    "\n",
    "Depois de plantadas as sementes, ele trabalha dias e noites para se certificar de que terá uma boa colheita no final da temporada. \n",
    "\n",
    "![](https://thumbs.gfycat.com/DismalShowyAgama-size_restricted.gif)\n",
    "\n",
    "Uma boa colheita é garantida por **vários fatores**, como disponibilidade de água, fertilidade do solo, proteção das colheitas contra roedores, **uso oportuno de pesticidas** e outros produtos químicos úteis.\n",
    "\n",
    "\n",
    "---\n",
    "\n",
    "\n",
    "\n",
    "\n",
    "\n",
    "\n",
    "Embora muitos desses fatores sejam difíceis de controlar, a **quantidade e a frequência dos pesticidas são algo que o agricultor pode controlar.**\n",
    "\n",
    "\n",
    "\n",
    "![](https://i.pinimg.com/originals/52/97/ba/5297badc1515dcb0004b6c6d78e8b3ae.gif) \n",
    "\n",
    "\n",
    "Os agrotóxicos também são especiais, pois protegem a lavoura com a dosagem certa. \n",
    "\n",
    "Mas, se você adicionar mais do que o necessário, eles podem estragar toda a colheita. \n",
    "\n",
    "![](https://i1.wp.com/www.cienciaedados.com/wp-content/uploads/2019/07/Aplicac%CC%A7o%CC%83es-e-Te%CC%81cnicas-de-Machine-Learning-na-Agricultura.jpg?resize=900%2C433&ssl=1)\n",
    "\n",
    "Um alto nível de pesticida pode considerar a safra morta / inadequada para consumo entre muitos resultados. \n",
    "\n"
   ]
  },
  {
   "cell_type": "markdown",
   "metadata": {
    "id": "-e0ne2sN-Yfx"
   },
   "source": [
    "# 1° Problema de Negócio\n",
    "\n",
    "Precisamos **prever o resultado da temporada de colheita**, ou seja, se a cultura seria:\n",
    "\n",
    " **1. Saudável (viva)**\n",
    "\n",
    " **2. Danificada por pesticidas** ou \n",
    " \n",
    " **3. Danificada por outros motivos.**\n",
    "\n",
    "Os dados são baseados em safras colhidas por vários agricultores no final da temporada de colheita. \n",
    "\n"
   ]
  },
  {
   "cell_type": "markdown",
   "metadata": {
    "id": "oADG9v2wAsBm"
   },
   "source": [
    "# 2° Análise Exploratória dos Dados\n",
    "\n",
    "![](https://cienciadosdados.com/images/2021/ad.png)"
   ]
  },
  {
   "cell_type": "markdown",
   "metadata": {
    "id": "RvmUw4_OOmCJ"
   },
   "source": [
    "1. **ID - UniqueID**\n",
    "2.**Estimated_Insects_Count** - Contagem estimada de insetos por metro quadrado\n",
    "3. **Crop_Type** - Categoria de cultivo (0,1)\n",
    "4. **Tipo_do solo** - Categoria do solo (0,1)\n",
    "5. **Pesticide_Use_Category** - Tipo de uso de pesticidas (1- 6. Nunca, 2-Usado anteriormente, 3-Usando atualmente)\n",
    "7. **Number_Doses_Week** - Número de doses por semana\n",
    "8. **Number_Weeks_Used** - Número de semanas usadas\n",
    "9. **Number_Weeks_Quit** - Número de semanas de desistência\n",
    "10. **Temporada** - Categoria Temporada (1,2,3)\n",
    "11. **Crop_Damage** - Categoria de dano de cultivo (0 = vivo, 1 = dano devido a outras causas, 2 = dano devido a pesticidas)"
   ]
  },
  {
   "cell_type": "markdown",
   "metadata": {
    "id": "szbTT2btP4e_"
   },
   "source": [
    "![](https://i.pinimg.com/originals/c9/91/72/c99172c17b83d3c620b997858351b2a5.gif)"
   ]
  },
  {
   "cell_type": "code",
   "execution_count": 1,
   "metadata": {
    "ExecuteTime": {
     "end_time": "2021-02-27T16:21:29.258302Z",
     "start_time": "2021-02-27T16:21:05.774864Z"
    },
    "id": "98AnLy26lmC8"
   },
   "outputs": [
    {
     "name": "stdout",
     "output_type": "stream",
     "text": [
      "Requirement already satisfied: catboost in c:\\users\\silvio\\anaconda3\\lib\\site-packages (0.24.3)\n",
      "Requirement already satisfied: scipy in c:\\users\\silvio\\anaconda3\\lib\\site-packages (from catboost) (1.5.2)\n",
      "Requirement already satisfied: matplotlib in c:\\users\\silvio\\anaconda3\\lib\\site-packages (from catboost) (3.3.2)\n",
      "Requirement already satisfied: numpy>=1.16.0 in c:\\users\\silvio\\anaconda3\\lib\\site-packages (from catboost) (1.19.2)\n",
      "Requirement already satisfied: plotly in c:\\users\\silvio\\anaconda3\\lib\\site-packages (from catboost) (4.14.1)\n",
      "Requirement already satisfied: six in c:\\users\\silvio\\anaconda3\\lib\\site-packages (from catboost) (1.15.0)\n",
      "Requirement already satisfied: pandas>=0.24.0 in c:\\users\\silvio\\anaconda3\\lib\\site-packages (from catboost) (1.1.3)\n",
      "Requirement already satisfied: graphviz in c:\\users\\silvio\\anaconda3\\lib\\site-packages (from catboost) (0.16)\n",
      "Requirement already satisfied: certifi>=2020.06.20 in c:\\users\\silvio\\anaconda3\\lib\\site-packages (from matplotlib->catboost) (2020.6.20)\n",
      "Requirement already satisfied: kiwisolver>=1.0.1 in c:\\users\\silvio\\anaconda3\\lib\\site-packages (from matplotlib->catboost) (1.3.0)\n",
      "Requirement already satisfied: cycler>=0.10 in c:\\users\\silvio\\anaconda3\\lib\\site-packages (from matplotlib->catboost) (0.10.0)\n",
      "Requirement already satisfied: pyparsing!=2.0.4,!=2.1.2,!=2.1.6,>=2.0.3 in c:\\users\\silvio\\anaconda3\\lib\\site-packages (from matplotlib->catboost) (2.4.7)\n",
      "Requirement already satisfied: pillow>=6.2.0 in c:\\users\\silvio\\anaconda3\\lib\\site-packages (from matplotlib->catboost) (7.2.0)\n",
      "Requirement already satisfied: python-dateutil>=2.1 in c:\\users\\silvio\\anaconda3\\lib\\site-packages (from matplotlib->catboost) (2.8.1)\n",
      "Requirement already satisfied: retrying>=1.3.3 in c:\\users\\silvio\\anaconda3\\lib\\site-packages (from plotly->catboost) (1.3.3)\n",
      "Requirement already satisfied: pytz>=2017.2 in c:\\users\\silvio\\anaconda3\\lib\\site-packages (from pandas>=0.24.0->catboost) (2020.1)\n"
     ]
    }
   ],
   "source": [
    "#!pip install catboost\n",
    "# "
   ]
  },
  {
   "cell_type": "code",
   "execution_count": 2,
   "metadata": {
    "ExecuteTime": {
     "end_time": "2021-02-27T16:21:49.552775Z",
     "start_time": "2021-02-27T16:21:41.433850Z"
    },
    "id": "vSlCYb_SbZid"
   },
   "outputs": [],
   "source": [
    "#Importação de Pacotes\n",
    "import pandas as pd\n",
    "import numpy as np\n",
    "import seaborn as sns\n",
    "from sklearn.model_selection import train_test_split\n",
    "from catboost import CatBoostClassifier \n",
    "import warnings\n",
    "warnings.filterwarnings(\"ignore\")\n"
   ]
  },
  {
   "cell_type": "code",
   "execution_count": 3,
   "metadata": {
    "ExecuteTime": {
     "end_time": "2021-02-27T16:22:16.663954Z",
     "start_time": "2021-02-27T16:22:16.477171Z"
    },
    "id": "IskUvph-b3YS"
   },
   "outputs": [],
   "source": [
    "# Conexão com os Dados\n",
    "train_d=pd.read_csv('treino.csv')"
   ]
  },
  {
   "cell_type": "code",
   "execution_count": 4,
   "metadata": {
    "ExecuteTime": {
     "end_time": "2021-02-27T16:22:19.823853Z",
     "start_time": "2021-02-27T16:22:19.790875Z"
    },
    "id": "JMA40cFVb9kD"
   },
   "outputs": [
    {
     "data": {
      "text/html": [
       "<div>\n",
       "<style scoped>\n",
       "    .dataframe tbody tr th:only-of-type {\n",
       "        vertical-align: middle;\n",
       "    }\n",
       "\n",
       "    .dataframe tbody tr th {\n",
       "        vertical-align: top;\n",
       "    }\n",
       "\n",
       "    .dataframe thead th {\n",
       "        text-align: right;\n",
       "    }\n",
       "</style>\n",
       "<table border=\"1\" class=\"dataframe\">\n",
       "  <thead>\n",
       "    <tr style=\"text-align: right;\">\n",
       "      <th></th>\n",
       "      <th>ID</th>\n",
       "      <th>Estimated_Insects_Count</th>\n",
       "      <th>Crop_Type</th>\n",
       "      <th>Soil_Type</th>\n",
       "      <th>Pesticide_Use_Category</th>\n",
       "      <th>Number_Doses_Week</th>\n",
       "      <th>Number_Weeks_Used</th>\n",
       "      <th>Number_Weeks_Quit</th>\n",
       "      <th>Season</th>\n",
       "      <th>Crop_Damage</th>\n",
       "    </tr>\n",
       "  </thead>\n",
       "  <tbody>\n",
       "    <tr>\n",
       "      <th>0</th>\n",
       "      <td>F00000001</td>\n",
       "      <td>188</td>\n",
       "      <td>1</td>\n",
       "      <td>0</td>\n",
       "      <td>1</td>\n",
       "      <td>0</td>\n",
       "      <td>0.0</td>\n",
       "      <td>0</td>\n",
       "      <td>1</td>\n",
       "      <td>0</td>\n",
       "    </tr>\n",
       "    <tr>\n",
       "      <th>1</th>\n",
       "      <td>F00000003</td>\n",
       "      <td>209</td>\n",
       "      <td>1</td>\n",
       "      <td>0</td>\n",
       "      <td>1</td>\n",
       "      <td>0</td>\n",
       "      <td>0.0</td>\n",
       "      <td>0</td>\n",
       "      <td>2</td>\n",
       "      <td>1</td>\n",
       "    </tr>\n",
       "    <tr>\n",
       "      <th>2</th>\n",
       "      <td>F00000004</td>\n",
       "      <td>257</td>\n",
       "      <td>1</td>\n",
       "      <td>0</td>\n",
       "      <td>1</td>\n",
       "      <td>0</td>\n",
       "      <td>0.0</td>\n",
       "      <td>0</td>\n",
       "      <td>2</td>\n",
       "      <td>1</td>\n",
       "    </tr>\n",
       "    <tr>\n",
       "      <th>3</th>\n",
       "      <td>F00000005</td>\n",
       "      <td>257</td>\n",
       "      <td>1</td>\n",
       "      <td>1</td>\n",
       "      <td>1</td>\n",
       "      <td>0</td>\n",
       "      <td>0.0</td>\n",
       "      <td>0</td>\n",
       "      <td>2</td>\n",
       "      <td>1</td>\n",
       "    </tr>\n",
       "    <tr>\n",
       "      <th>4</th>\n",
       "      <td>F00000006</td>\n",
       "      <td>342</td>\n",
       "      <td>1</td>\n",
       "      <td>0</td>\n",
       "      <td>1</td>\n",
       "      <td>0</td>\n",
       "      <td>0.0</td>\n",
       "      <td>0</td>\n",
       "      <td>2</td>\n",
       "      <td>1</td>\n",
       "    </tr>\n",
       "    <tr>\n",
       "      <th>5</th>\n",
       "      <td>F00000008</td>\n",
       "      <td>448</td>\n",
       "      <td>0</td>\n",
       "      <td>1</td>\n",
       "      <td>1</td>\n",
       "      <td>0</td>\n",
       "      <td>NaN</td>\n",
       "      <td>0</td>\n",
       "      <td>2</td>\n",
       "      <td>1</td>\n",
       "    </tr>\n",
       "    <tr>\n",
       "      <th>6</th>\n",
       "      <td>F00000009</td>\n",
       "      <td>448</td>\n",
       "      <td>0</td>\n",
       "      <td>1</td>\n",
       "      <td>1</td>\n",
       "      <td>0</td>\n",
       "      <td>NaN</td>\n",
       "      <td>0</td>\n",
       "      <td>2</td>\n",
       "      <td>1</td>\n",
       "    </tr>\n",
       "    <tr>\n",
       "      <th>7</th>\n",
       "      <td>F00000010</td>\n",
       "      <td>577</td>\n",
       "      <td>1</td>\n",
       "      <td>0</td>\n",
       "      <td>1</td>\n",
       "      <td>0</td>\n",
       "      <td>0.0</td>\n",
       "      <td>0</td>\n",
       "      <td>1</td>\n",
       "      <td>2</td>\n",
       "    </tr>\n",
       "    <tr>\n",
       "      <th>8</th>\n",
       "      <td>F00000012</td>\n",
       "      <td>731</td>\n",
       "      <td>0</td>\n",
       "      <td>0</td>\n",
       "      <td>1</td>\n",
       "      <td>0</td>\n",
       "      <td>0.0</td>\n",
       "      <td>0</td>\n",
       "      <td>2</td>\n",
       "      <td>0</td>\n",
       "    </tr>\n",
       "    <tr>\n",
       "      <th>9</th>\n",
       "      <td>F00000020</td>\n",
       "      <td>1132</td>\n",
       "      <td>1</td>\n",
       "      <td>0</td>\n",
       "      <td>1</td>\n",
       "      <td>0</td>\n",
       "      <td>0.0</td>\n",
       "      <td>0</td>\n",
       "      <td>1</td>\n",
       "      <td>2</td>\n",
       "    </tr>\n",
       "  </tbody>\n",
       "</table>\n",
       "</div>"
      ],
      "text/plain": [
       "          ID  Estimated_Insects_Count  Crop_Type  Soil_Type  \\\n",
       "0  F00000001                      188          1          0   \n",
       "1  F00000003                      209          1          0   \n",
       "2  F00000004                      257          1          0   \n",
       "3  F00000005                      257          1          1   \n",
       "4  F00000006                      342          1          0   \n",
       "5  F00000008                      448          0          1   \n",
       "6  F00000009                      448          0          1   \n",
       "7  F00000010                      577          1          0   \n",
       "8  F00000012                      731          0          0   \n",
       "9  F00000020                     1132          1          0   \n",
       "\n",
       "   Pesticide_Use_Category  Number_Doses_Week  Number_Weeks_Used  \\\n",
       "0                       1                  0                0.0   \n",
       "1                       1                  0                0.0   \n",
       "2                       1                  0                0.0   \n",
       "3                       1                  0                0.0   \n",
       "4                       1                  0                0.0   \n",
       "5                       1                  0                NaN   \n",
       "6                       1                  0                NaN   \n",
       "7                       1                  0                0.0   \n",
       "8                       1                  0                0.0   \n",
       "9                       1                  0                0.0   \n",
       "\n",
       "   Number_Weeks_Quit  Season  Crop_Damage  \n",
       "0                  0       1            0  \n",
       "1                  0       2            1  \n",
       "2                  0       2            1  \n",
       "3                  0       2            1  \n",
       "4                  0       2            1  \n",
       "5                  0       2            1  \n",
       "6                  0       2            1  \n",
       "7                  0       1            2  \n",
       "8                  0       2            0  \n",
       "9                  0       1            2  "
      ]
     },
     "execution_count": 4,
     "metadata": {},
     "output_type": "execute_result"
    }
   ],
   "source": [
    "# Visualiza as 10 primeiras linhas\n",
    "train_d.head(10)"
   ]
  },
  {
   "cell_type": "code",
   "execution_count": 5,
   "metadata": {
    "ExecuteTime": {
     "end_time": "2021-02-27T16:24:13.370584Z",
     "start_time": "2021-02-27T16:24:13.102788Z"
    },
    "colab": {
     "base_uri": "https://localhost:8080/"
    },
    "id": "_0xHXakkb9m3",
    "outputId": "386de23b-95a8-422c-bc77-0bfa191ca18c"
   },
   "outputs": [
    {
     "name": "stdout",
     "output_type": "stream",
     "text": [
      "<class 'pandas.core.frame.DataFrame'>\n",
      "RangeIndex: 88858 entries, 0 to 88857\n",
      "Data columns (total 10 columns):\n",
      " #   Column                   Non-Null Count  Dtype  \n",
      "---  ------                   --------------  -----  \n",
      " 0   ID                       88858 non-null  object \n",
      " 1   Estimated_Insects_Count  88858 non-null  int64  \n",
      " 2   Crop_Type                88858 non-null  int64  \n",
      " 3   Soil_Type                88858 non-null  int64  \n",
      " 4   Pesticide_Use_Category   88858 non-null  int64  \n",
      " 5   Number_Doses_Week        88858 non-null  int64  \n",
      " 6   Number_Weeks_Used        79858 non-null  float64\n",
      " 7   Number_Weeks_Quit        88858 non-null  int64  \n",
      " 8   Season                   88858 non-null  int64  \n",
      " 9   Crop_Damage              88858 non-null  int64  \n",
      "dtypes: float64(1), int64(8), object(1)\n",
      "memory usage: 6.8+ MB\n"
     ]
    }
   ],
   "source": [
    "# Informações dos atributos do Dataset\n",
    "train_d.info()"
   ]
  },
  {
   "cell_type": "code",
   "execution_count": 6,
   "metadata": {
    "ExecuteTime": {
     "end_time": "2021-02-27T16:24:28.864300Z",
     "start_time": "2021-02-27T16:24:28.215774Z"
    },
    "colab": {
     "base_uri": "https://localhost:8080/",
     "height": 280
    },
    "id": "U9NuS8lwb9pv",
    "outputId": "75b6b91a-99ab-421c-ec6a-f4fce438e9b4"
   },
   "outputs": [
    {
     "data": {
      "image/png": "[encoded data removed]",
      "text/plain": [
       "<Figure size 432x288 with 1 Axes>"
      ]
     },
     "metadata": {
      "needs_background": "light"
     },
     "output_type": "display_data"
    }
   ],
   "source": [
    "# Explorando a Variável resposta\n",
    "train_d['Crop_Damage'].value_counts()\n",
    "ax = sns.countplot(x=train_d[\"Crop_Damage\"])\n"
   ]
  },
  {
   "cell_type": "code",
   "execution_count": 7,
   "metadata": {
    "ExecuteTime": {
     "end_time": "2021-02-27T16:32:36.117511Z",
     "start_time": "2021-02-27T16:32:35.895652Z"
    },
    "colab": {
     "base_uri": "https://localhost:8080/",
     "height": 279
    },
    "id": "hYG9boxdikpm",
    "outputId": "4ab622e7-51f3-4cfe-c3aa-9be211da5f1c"
   },
   "outputs": [
    {
     "data": {
      "image/png": "[encoded data removed]",
      "text/plain": [
       "<Figure size 432x288 with 1 Axes>"
      ]
     },
     "metadata": {
      "needs_background": "light"
     },
     "output_type": "display_data"
    }
   ],
   "source": [
    "# Explorando a Variável Periodo\n",
    "train_d['Season'].value_counts()\n",
    "ax = sns.countplot(x=train_d[\"Season\"])"
   ]
  },
  {
   "cell_type": "code",
   "execution_count": 8,
   "metadata": {
    "ExecuteTime": {
     "end_time": "2021-02-27T16:33:10.278889Z",
     "start_time": "2021-02-27T16:33:10.029275Z"
    },
    "colab": {
     "base_uri": "https://localhost:8080/",
     "height": 280
    },
    "id": "H6y_XfAbitgg",
    "outputId": "ba4eb515-edaf-4c23-d431-691a39f20dde"
   },
   "outputs": [
    {
     "data": {
      "image/png": "[encoded data removed]",
      "text/plain": [
       "<Figure size 432x288 with 1 Axes>"
      ]
     },
     "metadata": {
      "needs_background": "light"
     },
     "output_type": "display_data"
    }
   ],
   "source": [
    "# Explorando a Variável\n",
    "train_d['Pesticide_Use_Category'].value_counts()\n",
    "ax = sns.countplot(x=train_d[\"Pesticide_Use_Category\"])"
   ]
  },
  {
   "cell_type": "code",
   "execution_count": 9,
   "metadata": {
    "ExecuteTime": {
     "end_time": "2021-02-27T16:33:27.479648Z",
     "start_time": "2021-02-27T16:33:27.232806Z"
    },
    "colab": {
     "base_uri": "https://localhost:8080/",
     "height": 280
    },
    "id": "sKY1bkn7i17A",
    "outputId": "6879e78c-f17c-43c9-a235-e2b5655636c5"
   },
   "outputs": [
    {
     "data": {
      "image/png": "[encoded data removed]",
      "text/plain": [
       "<Figure size 432x288 with 1 Axes>"
      ]
     },
     "metadata": {
      "needs_background": "light"
     },
     "output_type": "display_data"
    }
   ],
   "source": [
    "# Explorando a Variável Cultivo\n",
    "train_d['Crop_Type'].value_counts()\n",
    "ax = sns.countplot(x=train_d[\"Crop_Type\"])"
   ]
  },
  {
   "cell_type": "code",
   "execution_count": 19,
   "metadata": {
    "ExecuteTime": {
     "end_time": "2021-02-27T16:43:07.808702Z",
     "start_time": "2021-02-27T16:43:07.567767Z"
    },
    "colab": {
     "base_uri": "https://localhost:8080/",
     "height": 282
    },
    "id": "hGNnxFBgi5tU",
    "outputId": "5c2e3e95-7155-43fe-82bc-ccc3aab43295"
   },
   "outputs": [
    {
     "data": {
      "image/png": "[encoded data removed]",
      "text/plain": [
       "<Figure size 432x288 with 1 Axes>"
      ]
     },
     "metadata": {
      "needs_background": "light"
     },
     "output_type": "display_data"
    }
   ],
   "source": [
    "# Explorando a Variável tipo de Solo\n",
    "train_d['Soil_Type'].value_counts()\n",
    "ax = sns.countplot(x=train_d[\"Soil_Type\"])"
   ]
  },
  {
   "cell_type": "code",
   "execution_count": 10,
   "metadata": {
    "ExecuteTime": {
     "end_time": "2021-02-27T16:34:37.636854Z",
     "start_time": "2021-02-27T16:34:37.604878Z"
    },
    "colab": {
     "base_uri": "https://localhost:8080/"
    },
    "id": "EnayAnwsb9sY",
    "outputId": "9e55b29c-22f7-4882-bd63-98be10e3c1e9"
   },
   "outputs": [
    {
     "data": {
      "text/plain": [
       "ID                            0\n",
       "Estimated_Insects_Count       0\n",
       "Crop_Type                     0\n",
       "Soil_Type                     0\n",
       "Pesticide_Use_Category        0\n",
       "Number_Doses_Week             0\n",
       "Number_Weeks_Used          9000\n",
       "Number_Weeks_Quit             0\n",
       "Season                        0\n",
       "Crop_Damage                   0\n",
       "dtype: int64"
      ]
     },
     "execution_count": 10,
     "metadata": {},
     "output_type": "execute_result"
    }
   ],
   "source": [
    "#Verificando valores nulos\n",
    "train_d.isnull().sum()"
   ]
  },
  {
   "cell_type": "code",
   "execution_count": 11,
   "metadata": {
    "ExecuteTime": {
     "end_time": "2021-02-27T16:35:07.664682Z",
     "start_time": "2021-02-27T16:35:07.509917Z"
    },
    "colab": {
     "base_uri": "https://localhost:8080/"
    },
    "id": "JU1V0id5jfKc",
    "outputId": "57f7582b-cd44-4b56-cf00-db044fd6d9b6"
   },
   "outputs": [
    {
     "data": {
      "text/plain": [
       "0"
      ]
     },
     "execution_count": 11,
     "metadata": {},
     "output_type": "execute_result"
    }
   ],
   "source": [
    "#Verifica valores duplicados\n",
    "train_d.duplicated().sum()"
   ]
  },
  {
   "cell_type": "code",
   "execution_count": 12,
   "metadata": {
    "ExecuteTime": {
     "end_time": "2021-02-27T16:35:52.142470Z",
     "start_time": "2021-02-27T16:35:51.907618Z"
    },
    "id": "PwJzk3MoeV7A"
   },
   "outputs": [
    {
     "data": {
      "image/png": "[encoded data removed]",
      "text/plain": [
       "<Figure size 432x288 with 1 Axes>"
      ]
     },
     "metadata": {
      "needs_background": "light"
     },
     "output_type": "display_data"
    }
   ],
   "source": [
    "#Estatística descritiva tipo da contagem de inseto\n",
    "train_d['Estimated_Insects_Count'].describe()\n",
    "ax = sns.boxplot(x=train_d[\"Estimated_Insects_Count\"])\n",
    "# lavouras com outilier"
   ]
  },
  {
   "cell_type": "code",
   "execution_count": 13,
   "metadata": {
    "ExecuteTime": {
     "end_time": "2021-02-27T16:36:36.820731Z",
     "start_time": "2021-02-27T16:36:36.604864Z"
    },
    "colab": {
     "base_uri": "https://localhost:8080/",
     "height": 280
    },
    "id": "JFgtywI7fd3L",
    "outputId": "7b1d0cf4-4677-48c9-8738-a99b8d752907"
   },
   "outputs": [
    {
     "data": {
      "image/png": "[encoded data removed]",
      "text/plain": [
       "<Figure size 432x288 with 1 Axes>"
      ]
     },
     "metadata": {
      "needs_background": "light"
     },
     "output_type": "display_data"
    }
   ],
   "source": [
    "#Estatística descritiva numero de doses(pertcida) na semana\n",
    "train_d['Number_Doses_Week'].describe()\n",
    "ax = sns.boxplot(x=train_d[\"Number_Doses_Week\"])"
   ]
  },
  {
   "cell_type": "code",
   "execution_count": 14,
   "metadata": {
    "ExecuteTime": {
     "end_time": "2021-02-27T16:36:55.642053Z",
     "start_time": "2021-02-27T16:36:55.364220Z"
    },
    "colab": {
     "base_uri": "https://localhost:8080/",
     "height": 280
    },
    "id": "oYAvXYVWfsH8",
    "outputId": "ab088425-84c4-4bcb-80ea-eb3f1ad889a9"
   },
   "outputs": [
    {
     "data": {
      "image/png": "[encoded data removed]",
      "text/plain": [
       "<Figure size 432x288 with 1 Axes>"
      ]
     },
     "metadata": {
      "needs_background": "light"
     },
     "output_type": "display_data"
    }
   ],
   "source": [
    "#Estatística descritiva numero de semana usando os perticidas\n",
    "train_d['Number_Weeks_Used'].describe()\n",
    "ax = sns.boxplot(x=train_d[\"Number_Weeks_Used\"])\n"
   ]
  },
  {
   "cell_type": "code",
   "execution_count": 15,
   "metadata": {
    "ExecuteTime": {
     "end_time": "2021-02-27T16:39:01.845403Z",
     "start_time": "2021-02-27T16:39:01.251999Z"
    },
    "colab": {
     "base_uri": "https://localhost:8080/",
     "height": 280
    },
    "id": "lXnA4qz9fnRT",
    "outputId": "2a7c9113-8c7c-430a-deff-da5cb37f98c0"
   },
   "outputs": [
    {
     "data": {
      "image/png": "[encoded data removed]",
      "text/plain": [
       "<Figure size 432x288 with 1 Axes>"
      ]
     },
     "metadata": {
      "needs_background": "light"
     },
     "output_type": "display_data"
    }
   ],
   "source": [
    "#Estatística descritiva não houve uso de perticida\n",
    "train_d['Number_Weeks_Quit'].describe()\n",
    "ax = sns.histplot(x=train_d[\"Number_Weeks_Quit\"], bins=5)\n",
    "# zero a  10 semanas"
   ]
  },
  {
   "cell_type": "markdown",
   "metadata": {
    "id": "y1kGuj-rAsEG"
   },
   "source": [
    "# 3° Pré-Processamento dos Dados"
   ]
  },
  {
   "cell_type": "code",
   "execution_count": 16,
   "metadata": {
    "ExecuteTime": {
     "end_time": "2021-02-27T16:41:36.191768Z",
     "start_time": "2021-02-27T16:41:36.165783Z"
    },
    "id": "dZNc3MP6kKxF"
   },
   "outputs": [
    {
     "data": {
      "text/html": [
       "<div>\n",
       "<style scoped>\n",
       "    .dataframe tbody tr th:only-of-type {\n",
       "        vertical-align: middle;\n",
       "    }\n",
       "\n",
       "    .dataframe tbody tr th {\n",
       "        vertical-align: top;\n",
       "    }\n",
       "\n",
       "    .dataframe thead th {\n",
       "        text-align: right;\n",
       "    }\n",
       "</style>\n",
       "<table border=\"1\" class=\"dataframe\">\n",
       "  <thead>\n",
       "    <tr style=\"text-align: right;\">\n",
       "      <th></th>\n",
       "      <th>Estimated_Insects_Count</th>\n",
       "      <th>Crop_Type</th>\n",
       "      <th>Soil_Type</th>\n",
       "      <th>Pesticide_Use_Category</th>\n",
       "      <th>Number_Doses_Week</th>\n",
       "      <th>Number_Weeks_Used</th>\n",
       "      <th>Number_Weeks_Quit</th>\n",
       "      <th>Season</th>\n",
       "      <th>Crop_Damage</th>\n",
       "    </tr>\n",
       "  </thead>\n",
       "  <tbody>\n",
       "    <tr>\n",
       "      <th>0</th>\n",
       "      <td>188</td>\n",
       "      <td>1</td>\n",
       "      <td>0</td>\n",
       "      <td>1</td>\n",
       "      <td>0</td>\n",
       "      <td>0.0</td>\n",
       "      <td>0</td>\n",
       "      <td>1</td>\n",
       "      <td>0</td>\n",
       "    </tr>\n",
       "    <tr>\n",
       "      <th>1</th>\n",
       "      <td>209</td>\n",
       "      <td>1</td>\n",
       "      <td>0</td>\n",
       "      <td>1</td>\n",
       "      <td>0</td>\n",
       "      <td>0.0</td>\n",
       "      <td>0</td>\n",
       "      <td>2</td>\n",
       "      <td>1</td>\n",
       "    </tr>\n",
       "    <tr>\n",
       "      <th>2</th>\n",
       "      <td>257</td>\n",
       "      <td>1</td>\n",
       "      <td>0</td>\n",
       "      <td>1</td>\n",
       "      <td>0</td>\n",
       "      <td>0.0</td>\n",
       "      <td>0</td>\n",
       "      <td>2</td>\n",
       "      <td>1</td>\n",
       "    </tr>\n",
       "    <tr>\n",
       "      <th>3</th>\n",
       "      <td>257</td>\n",
       "      <td>1</td>\n",
       "      <td>1</td>\n",
       "      <td>1</td>\n",
       "      <td>0</td>\n",
       "      <td>0.0</td>\n",
       "      <td>0</td>\n",
       "      <td>2</td>\n",
       "      <td>1</td>\n",
       "    </tr>\n",
       "    <tr>\n",
       "      <th>4</th>\n",
       "      <td>342</td>\n",
       "      <td>1</td>\n",
       "      <td>0</td>\n",
       "      <td>1</td>\n",
       "      <td>0</td>\n",
       "      <td>0.0</td>\n",
       "      <td>0</td>\n",
       "      <td>2</td>\n",
       "      <td>1</td>\n",
       "    </tr>\n",
       "  </tbody>\n",
       "</table>\n",
       "</div>"
      ],
      "text/plain": [
       "   Estimated_Insects_Count  Crop_Type  Soil_Type  Pesticide_Use_Category  \\\n",
       "0                      188          1          0                       1   \n",
       "1                      209          1          0                       1   \n",
       "2                      257          1          0                       1   \n",
       "3                      257          1          1                       1   \n",
       "4                      342          1          0                       1   \n",
       "\n",
       "   Number_Doses_Week  Number_Weeks_Used  Number_Weeks_Quit  Season  \\\n",
       "0                  0                0.0                  0       1   \n",
       "1                  0                0.0                  0       2   \n",
       "2                  0                0.0                  0       2   \n",
       "3                  0                0.0                  0       2   \n",
       "4                  0                0.0                  0       2   \n",
       "\n",
       "   Crop_Damage  \n",
       "0            0  \n",
       "1            1  \n",
       "2            1  \n",
       "3            1  \n",
       "4            1  "
      ]
     },
     "execution_count": 16,
     "metadata": {},
     "output_type": "execute_result"
    }
   ],
   "source": [
    "#Excluir a variável ID pois ela não é explicativa\n",
    "train_d.drop('ID',axis=1,inplace=True)\n",
    "train_d.head()"
   ]
  },
  {
   "cell_type": "code",
   "execution_count": 17,
   "metadata": {
    "ExecuteTime": {
     "end_time": "2021-02-27T16:41:40.338714Z",
     "start_time": "2021-02-27T16:41:40.294739Z"
    },
    "colab": {
     "base_uri": "https://localhost:8080/"
    },
    "id": "f-IH1d2tjOoU",
    "outputId": "9f71afa1-ab36-406d-c6d3-e2a810628cc1"
   },
   "outputs": [
    {
     "data": {
      "text/plain": [
       "Estimated_Insects_Count    0\n",
       "Crop_Type                  0\n",
       "Soil_Type                  0\n",
       "Pesticide_Use_Category     0\n",
       "Number_Doses_Week          0\n",
       "Number_Weeks_Used          0\n",
       "Number_Weeks_Quit          0\n",
       "Season                     0\n",
       "Crop_Damage                0\n",
       "dtype: int64"
      ]
     },
     "execution_count": 17,
     "metadata": {},
     "output_type": "execute_result"
    }
   ],
   "source": [
    "#Exclusão dos Valores ausentes\n",
    "train_d.dropna(inplace=True)\n",
    "train_d.isnull().sum()"
   ]
  },
  {
   "cell_type": "code",
   "execution_count": 18,
   "metadata": {
    "ExecuteTime": {
     "end_time": "2021-02-27T16:42:39.109174Z",
     "start_time": "2021-02-27T16:42:39.087188Z"
    },
    "colab": {
     "base_uri": "https://localhost:8080/",
     "height": 223
    },
    "id": "cpyxFMsSp4YH",
    "outputId": "26f891fd-a166-49e0-c6c7-38f9e8b0e2b8"
   },
   "outputs": [
    {
     "data": {
      "text/html": [
       "<div>\n",
       "<style scoped>\n",
       "    .dataframe tbody tr th:only-of-type {\n",
       "        vertical-align: middle;\n",
       "    }\n",
       "\n",
       "    .dataframe tbody tr th {\n",
       "        vertical-align: top;\n",
       "    }\n",
       "\n",
       "    .dataframe thead th {\n",
       "        text-align: right;\n",
       "    }\n",
       "</style>\n",
       "<table border=\"1\" class=\"dataframe\">\n",
       "  <thead>\n",
       "    <tr style=\"text-align: right;\">\n",
       "      <th></th>\n",
       "      <th>Estimated_Insects_Count</th>\n",
       "      <th>Crop_Type</th>\n",
       "      <th>Soil_Type</th>\n",
       "      <th>Pesticide_Use_Category</th>\n",
       "      <th>Number_Doses_Week</th>\n",
       "      <th>Number_Weeks_Used</th>\n",
       "      <th>Number_Weeks_Quit</th>\n",
       "      <th>Season</th>\n",
       "      <th>Crop_Damage</th>\n",
       "    </tr>\n",
       "  </thead>\n",
       "  <tbody>\n",
       "    <tr>\n",
       "      <th>0</th>\n",
       "      <td>188</td>\n",
       "      <td>1</td>\n",
       "      <td>0</td>\n",
       "      <td>1</td>\n",
       "      <td>0</td>\n",
       "      <td>0.0</td>\n",
       "      <td>0</td>\n",
       "      <td>1</td>\n",
       "      <td>0</td>\n",
       "    </tr>\n",
       "    <tr>\n",
       "      <th>1</th>\n",
       "      <td>209</td>\n",
       "      <td>1</td>\n",
       "      <td>0</td>\n",
       "      <td>1</td>\n",
       "      <td>0</td>\n",
       "      <td>0.0</td>\n",
       "      <td>0</td>\n",
       "      <td>2</td>\n",
       "      <td>1</td>\n",
       "    </tr>\n",
       "    <tr>\n",
       "      <th>2</th>\n",
       "      <td>257</td>\n",
       "      <td>1</td>\n",
       "      <td>0</td>\n",
       "      <td>1</td>\n",
       "      <td>0</td>\n",
       "      <td>0.0</td>\n",
       "      <td>0</td>\n",
       "      <td>2</td>\n",
       "      <td>1</td>\n",
       "    </tr>\n",
       "    <tr>\n",
       "      <th>3</th>\n",
       "      <td>257</td>\n",
       "      <td>1</td>\n",
       "      <td>1</td>\n",
       "      <td>1</td>\n",
       "      <td>0</td>\n",
       "      <td>0.0</td>\n",
       "      <td>0</td>\n",
       "      <td>2</td>\n",
       "      <td>1</td>\n",
       "    </tr>\n",
       "    <tr>\n",
       "      <th>4</th>\n",
       "      <td>342</td>\n",
       "      <td>1</td>\n",
       "      <td>0</td>\n",
       "      <td>1</td>\n",
       "      <td>0</td>\n",
       "      <td>0.0</td>\n",
       "      <td>0</td>\n",
       "      <td>2</td>\n",
       "      <td>1</td>\n",
       "    </tr>\n",
       "  </tbody>\n",
       "</table>\n",
       "</div>"
      ],
      "text/plain": [
       "   Estimated_Insects_Count  Crop_Type  Soil_Type  Pesticide_Use_Category  \\\n",
       "0                      188          1          0                       1   \n",
       "1                      209          1          0                       1   \n",
       "2                      257          1          0                       1   \n",
       "3                      257          1          1                       1   \n",
       "4                      342          1          0                       1   \n",
       "\n",
       "   Number_Doses_Week  Number_Weeks_Used  Number_Weeks_Quit  Season  \\\n",
       "0                  0                0.0                  0       1   \n",
       "1                  0                0.0                  0       2   \n",
       "2                  0                0.0                  0       2   \n",
       "3                  0                0.0                  0       2   \n",
       "4                  0                0.0                  0       2   \n",
       "\n",
       "   Crop_Damage  \n",
       "0            0  \n",
       "1            1  \n",
       "2            1  \n",
       "3            1  \n",
       "4            1  "
      ]
     },
     "execution_count": 18,
     "metadata": {},
     "output_type": "execute_result"
    }
   ],
   "source": [
    "train_d.head()"
   ]
  },
  {
   "cell_type": "code",
   "execution_count": 20,
   "metadata": {
    "ExecuteTime": {
     "end_time": "2021-02-27T16:43:40.007774Z",
     "start_time": "2021-02-27T16:43:39.991781Z"
    }
   },
   "outputs": [
    {
     "data": {
      "text/plain": [
       "Estimated_Insects_Count    0\n",
       "Crop_Type                  0\n",
       "Soil_Type                  0\n",
       "Pesticide_Use_Category     0\n",
       "Number_Doses_Week          0\n",
       "Number_Weeks_Used          0\n",
       "Number_Weeks_Quit          0\n",
       "Season                     0\n",
       "Crop_Damage                0\n",
       "dtype: int64"
      ]
     },
     "execution_count": 20,
     "metadata": {},
     "output_type": "execute_result"
    }
   ],
   "source": [
    "#Verificando valores nulos\n",
    "train_d.isnull().sum()"
   ]
  },
  {
   "cell_type": "code",
   "execution_count": 21,
   "metadata": {
    "ExecuteTime": {
     "end_time": "2021-02-27T16:46:35.165849Z",
     "start_time": "2021-02-27T16:46:35.069882Z"
    },
    "id": "U_BjxOWUkKr0"
   },
   "outputs": [],
   "source": [
    "# One-Hot Encoder - Criação de Variáveis Numéricas\n",
    "# criar variavel  tipo solo 0 e tipo de solo 1\n",
    "for col in ['Crop_Type','Soil_Type','Pesticide_Use_Category','Season']:\n",
    "  train_d = pd.get_dummies(train_d, columns=[col])# transforma as variaveis de acordo com seu dominio"
   ]
  },
  {
   "cell_type": "code",
   "execution_count": 22,
   "metadata": {
    "ExecuteTime": {
     "end_time": "2021-02-27T16:46:53.329192Z",
     "start_time": "2021-02-27T16:46:53.299212Z"
    },
    "colab": {
     "base_uri": "https://localhost:8080/",
     "height": 130
    },
    "id": "Oo8LL66wkKuV",
    "outputId": "d08c9340-4582-4ac0-de5c-b3c48ab3f149"
   },
   "outputs": [
    {
     "data": {
      "text/html": [
       "<div>\n",
       "<style scoped>\n",
       "    .dataframe tbody tr th:only-of-type {\n",
       "        vertical-align: middle;\n",
       "    }\n",
       "\n",
       "    .dataframe tbody tr th {\n",
       "        vertical-align: top;\n",
       "    }\n",
       "\n",
       "    .dataframe thead th {\n",
       "        text-align: right;\n",
       "    }\n",
       "</style>\n",
       "<table border=\"1\" class=\"dataframe\">\n",
       "  <thead>\n",
       "    <tr style=\"text-align: right;\">\n",
       "      <th></th>\n",
       "      <th>Estimated_Insects_Count</th>\n",
       "      <th>Number_Doses_Week</th>\n",
       "      <th>Number_Weeks_Used</th>\n",
       "      <th>Number_Weeks_Quit</th>\n",
       "      <th>Crop_Damage</th>\n",
       "      <th>Crop_Type_0</th>\n",
       "      <th>Crop_Type_1</th>\n",
       "      <th>Soil_Type_0</th>\n",
       "      <th>Soil_Type_1</th>\n",
       "      <th>Pesticide_Use_Category_1</th>\n",
       "      <th>Pesticide_Use_Category_2</th>\n",
       "      <th>Pesticide_Use_Category_3</th>\n",
       "      <th>Season_1</th>\n",
       "      <th>Season_2</th>\n",
       "      <th>Season_3</th>\n",
       "    </tr>\n",
       "  </thead>\n",
       "  <tbody>\n",
       "    <tr>\n",
       "      <th>0</th>\n",
       "      <td>188</td>\n",
       "      <td>0</td>\n",
       "      <td>0.0</td>\n",
       "      <td>0</td>\n",
       "      <td>0</td>\n",
       "      <td>0</td>\n",
       "      <td>1</td>\n",
       "      <td>1</td>\n",
       "      <td>0</td>\n",
       "      <td>1</td>\n",
       "      <td>0</td>\n",
       "      <td>0</td>\n",
       "      <td>1</td>\n",
       "      <td>0</td>\n",
       "      <td>0</td>\n",
       "    </tr>\n",
       "    <tr>\n",
       "      <th>1</th>\n",
       "      <td>209</td>\n",
       "      <td>0</td>\n",
       "      <td>0.0</td>\n",
       "      <td>0</td>\n",
       "      <td>1</td>\n",
       "      <td>0</td>\n",
       "      <td>1</td>\n",
       "      <td>1</td>\n",
       "      <td>0</td>\n",
       "      <td>1</td>\n",
       "      <td>0</td>\n",
       "      <td>0</td>\n",
       "      <td>0</td>\n",
       "      <td>1</td>\n",
       "      <td>0</td>\n",
       "    </tr>\n",
       "  </tbody>\n",
       "</table>\n",
       "</div>"
      ],
      "text/plain": [
       "   Estimated_Insects_Count  Number_Doses_Week  Number_Weeks_Used  \\\n",
       "0                      188                  0                0.0   \n",
       "1                      209                  0                0.0   \n",
       "\n",
       "   Number_Weeks_Quit  Crop_Damage  Crop_Type_0  Crop_Type_1  Soil_Type_0  \\\n",
       "0                  0            0            0            1            1   \n",
       "1                  0            1            0            1            1   \n",
       "\n",
       "   Soil_Type_1  Pesticide_Use_Category_1  Pesticide_Use_Category_2  \\\n",
       "0            0                         1                         0   \n",
       "1            0                         1                         0   \n",
       "\n",
       "   Pesticide_Use_Category_3  Season_1  Season_2  Season_3  \n",
       "0                         0         1         0         0  \n",
       "1                         0         0         1         0  "
      ]
     },
     "execution_count": 22,
     "metadata": {},
     "output_type": "execute_result"
    }
   ],
   "source": [
    "train_d.head(2)\n",
    "# visualizar as novas variaveis"
   ]
  },
  {
   "cell_type": "code",
   "execution_count": 23,
   "metadata": {
    "ExecuteTime": {
     "end_time": "2021-02-27T16:47:06.686635Z",
     "start_time": "2021-02-27T16:47:06.677642Z"
    }
   },
   "outputs": [
    {
     "data": {
      "text/plain": [
       "(79858, 15)"
      ]
     },
     "execution_count": 23,
     "metadata": {},
     "output_type": "execute_result"
    }
   ],
   "source": [
    "train_d.shape"
   ]
  },
  {
   "cell_type": "code",
   "execution_count": 24,
   "metadata": {
    "ExecuteTime": {
     "end_time": "2021-02-27T16:49:50.763472Z",
     "start_time": "2021-02-27T16:49:50.713503Z"
    },
    "id": "r3br5J2jlzVb"
   },
   "outputs": [],
   "source": [
    "# Split dataset\n",
    "X = train_d.drop(['Crop_Damage'], axis=1) # variaveis explicativas, que sao todas variaveis . menos a variavel target 'Crop_Damage'\n",
    "y = train_d['Crop_Damage'].values.reshape(-1,1) # variaveis que vai ser explicada. 'Crop_Damage'\n",
    "\n",
    "# Amostragem dos dados de treino e de teste\n",
    "X_train, X_test, y_train, y_test = train_test_split(X, y, test_size=0.2, random_state=7)"
   ]
  },
  {
   "cell_type": "markdown",
   "metadata": {
    "id": "hmbaEWpgAsHO"
   },
   "source": [
    "# 4° Construção das Máquinas Preditivas"
   ]
  },
  {
   "cell_type": "code",
   "execution_count": null,
   "metadata": {
    "id": "JpIhGumgleKI"
   },
   "outputs": [],
   "source": [
    "# Instalação do Catboost\n",
    "#!pip install catboost"
   ]
  },
  {
   "cell_type": "code",
   "execution_count": 26,
   "metadata": {
    "ExecuteTime": {
     "end_time": "2021-02-27T16:54:40.368578Z",
     "start_time": "2021-02-27T16:54:09.906790Z"
    },
    "colab": {
     "base_uri": "https://localhost:8080/"
    },
    "id": "vmBb1T1IkK2p",
    "outputId": "b4ed60c5-5f50-4b9e-c997-5ec2e81ce6c7"
   },
   "outputs": [
    {
     "name": "stdout",
     "output_type": "stream",
     "text": [
      "Learning rate set to 0.097814\n",
      "0:\tlearn: 0.9832092\ttotal: 26.3ms\tremaining: 26.3s\n",
      "1:\tlearn: 0.8949168\ttotal: 55.4ms\tremaining: 27.6s\n",
      "2:\tlearn: 0.8266158\ttotal: 87ms\tremaining: 28.9s\n",
      "3:\tlearn: 0.7706912\ttotal: 120ms\tremaining: 29.8s\n",
      "4:\tlearn: 0.7241909\ttotal: 151ms\tremaining: 30.1s\n",
      "5:\tlearn: 0.6857756\ttotal: 176ms\tremaining: 29.1s\n",
      "6:\tlearn: 0.6533072\ttotal: 225ms\tremaining: 31.9s\n",
      "7:\tlearn: 0.6249385\ttotal: 258ms\tremaining: 32s\n",
      "8:\tlearn: 0.6010892\ttotal: 297ms\tremaining: 32.7s\n",
      "9:\tlearn: 0.5798398\ttotal: 321ms\tremaining: 31.8s\n",
      "10:\tlearn: 0.5617840\ttotal: 347ms\tremaining: 31.2s\n",
      "11:\tlearn: 0.5470850\ttotal: 369ms\tremaining: 30.4s\n",
      "12:\tlearn: 0.5335494\ttotal: 404ms\tremaining: 30.7s\n",
      "13:\tlearn: 0.5221289\ttotal: 429ms\tremaining: 30.2s\n",
      "14:\tlearn: 0.5116100\ttotal: 457ms\tremaining: 30s\n",
      "15:\tlearn: 0.5023982\ttotal: 481ms\tremaining: 29.6s\n",
      "16:\tlearn: 0.4942070\ttotal: 503ms\tremaining: 29.1s\n",
      "17:\tlearn: 0.4877251\ttotal: 534ms\tremaining: 29.1s\n",
      "18:\tlearn: 0.4815039\ttotal: 559ms\tremaining: 28.8s\n",
      "19:\tlearn: 0.4765471\ttotal: 589ms\tremaining: 28.9s\n",
      "20:\tlearn: 0.4716037\ttotal: 615ms\tremaining: 28.7s\n",
      "21:\tlearn: 0.4671294\ttotal: 642ms\tremaining: 28.5s\n",
      "22:\tlearn: 0.4633473\ttotal: 665ms\tremaining: 28.2s\n",
      "23:\tlearn: 0.4601271\ttotal: 689ms\tremaining: 28s\n",
      "24:\tlearn: 0.4578192\ttotal: 712ms\tremaining: 27.8s\n",
      "25:\tlearn: 0.4549052\ttotal: 736ms\tremaining: 27.6s\n",
      "26:\tlearn: 0.4524336\ttotal: 772ms\tremaining: 27.8s\n",
      "27:\tlearn: 0.4502470\ttotal: 797ms\tremaining: 27.7s\n",
      "28:\tlearn: 0.4482808\ttotal: 820ms\tremaining: 27.5s\n",
      "29:\tlearn: 0.4469767\ttotal: 852ms\tremaining: 27.5s\n",
      "30:\tlearn: 0.4455674\ttotal: 889ms\tremaining: 27.8s\n",
      "31:\tlearn: 0.4440116\ttotal: 1.04s\tremaining: 31.5s\n",
      "32:\tlearn: 0.4421545\ttotal: 1.09s\tremaining: 32s\n",
      "33:\tlearn: 0.4409949\ttotal: 1.12s\tremaining: 31.9s\n",
      "34:\tlearn: 0.4401296\ttotal: 1.15s\tremaining: 31.6s\n",
      "35:\tlearn: 0.4388047\ttotal: 1.17s\tremaining: 31.3s\n",
      "36:\tlearn: 0.4382052\ttotal: 1.19s\tremaining: 31s\n",
      "37:\tlearn: 0.4375598\ttotal: 1.21s\tremaining: 30.8s\n",
      "38:\tlearn: 0.4366342\ttotal: 1.24s\tremaining: 30.5s\n",
      "39:\tlearn: 0.4357206\ttotal: 1.27s\tremaining: 30.5s\n",
      "40:\tlearn: 0.4350259\ttotal: 1.3s\tremaining: 30.4s\n",
      "41:\tlearn: 0.4341996\ttotal: 1.32s\tremaining: 30.2s\n",
      "42:\tlearn: 0.4336522\ttotal: 1.35s\tremaining: 30s\n",
      "43:\tlearn: 0.4333188\ttotal: 1.37s\tremaining: 29.7s\n",
      "44:\tlearn: 0.4327742\ttotal: 1.39s\tremaining: 29.6s\n",
      "45:\tlearn: 0.4322459\ttotal: 1.42s\tremaining: 29.4s\n",
      "46:\tlearn: 0.4317194\ttotal: 1.44s\tremaining: 29.2s\n",
      "47:\tlearn: 0.4312752\ttotal: 1.47s\tremaining: 29.2s\n",
      "48:\tlearn: 0.4308455\ttotal: 1.5s\tremaining: 29.1s\n",
      "49:\tlearn: 0.4304575\ttotal: 1.52s\tremaining: 29s\n",
      "50:\tlearn: 0.4300013\ttotal: 1.55s\tremaining: 28.8s\n",
      "51:\tlearn: 0.4296290\ttotal: 1.57s\tremaining: 28.7s\n",
      "52:\tlearn: 0.4293574\ttotal: 1.6s\tremaining: 28.5s\n",
      "53:\tlearn: 0.4291234\ttotal: 1.62s\tremaining: 28.4s\n",
      "54:\tlearn: 0.4287965\ttotal: 1.66s\tremaining: 28.5s\n",
      "55:\tlearn: 0.4285662\ttotal: 1.68s\tremaining: 28.3s\n",
      "56:\tlearn: 0.4282841\ttotal: 1.71s\tremaining: 28.2s\n",
      "57:\tlearn: 0.4279412\ttotal: 1.73s\tremaining: 28.1s\n",
      "58:\tlearn: 0.4276682\ttotal: 1.75s\tremaining: 27.9s\n",
      "59:\tlearn: 0.4275246\ttotal: 1.77s\tremaining: 27.8s\n",
      "60:\tlearn: 0.4271691\ttotal: 1.8s\tremaining: 27.7s\n",
      "61:\tlearn: 0.4270358\ttotal: 1.82s\tremaining: 27.5s\n",
      "62:\tlearn: 0.4268977\ttotal: 1.85s\tremaining: 27.5s\n",
      "63:\tlearn: 0.4267628\ttotal: 1.88s\tremaining: 27.5s\n",
      "64:\tlearn: 0.4266021\ttotal: 1.9s\tremaining: 27.3s\n",
      "65:\tlearn: 0.4264020\ttotal: 1.92s\tremaining: 27.2s\n",
      "66:\tlearn: 0.4262203\ttotal: 1.94s\tremaining: 27.1s\n",
      "67:\tlearn: 0.4261321\ttotal: 1.97s\tremaining: 27s\n",
      "68:\tlearn: 0.4260387\ttotal: 1.99s\tremaining: 26.9s\n",
      "69:\tlearn: 0.4258988\ttotal: 2.02s\tremaining: 26.8s\n",
      "70:\tlearn: 0.4257247\ttotal: 2.05s\tremaining: 26.8s\n",
      "71:\tlearn: 0.4256039\ttotal: 2.08s\tremaining: 26.9s\n",
      "72:\tlearn: 0.4255164\ttotal: 2.1s\tremaining: 26.7s\n",
      "73:\tlearn: 0.4252867\ttotal: 2.13s\tremaining: 26.7s\n",
      "74:\tlearn: 0.4252036\ttotal: 2.15s\tremaining: 26.5s\n",
      "75:\tlearn: 0.4250354\ttotal: 2.18s\tremaining: 26.5s\n",
      "76:\tlearn: 0.4249166\ttotal: 2.2s\tremaining: 26.4s\n",
      "77:\tlearn: 0.4248308\ttotal: 2.24s\tremaining: 26.4s\n",
      "78:\tlearn: 0.4246919\ttotal: 2.26s\tremaining: 26.4s\n",
      "79:\tlearn: 0.4246063\ttotal: 2.29s\tremaining: 26.3s\n",
      "80:\tlearn: 0.4243707\ttotal: 2.31s\tremaining: 26.2s\n",
      "81:\tlearn: 0.4241756\ttotal: 2.34s\tremaining: 26.2s\n",
      "82:\tlearn: 0.4241285\ttotal: 2.36s\tremaining: 26.1s\n",
      "83:\tlearn: 0.4240019\ttotal: 2.39s\tremaining: 26s\n",
      "84:\tlearn: 0.4239117\ttotal: 2.42s\tremaining: 26.1s\n",
      "85:\tlearn: 0.4237952\ttotal: 2.46s\tremaining: 26.1s\n",
      "86:\tlearn: 0.4236853\ttotal: 2.48s\tremaining: 26s\n",
      "87:\tlearn: 0.4236316\ttotal: 2.51s\tremaining: 26s\n",
      "88:\tlearn: 0.4234956\ttotal: 2.54s\tremaining: 26s\n",
      "89:\tlearn: 0.4232525\ttotal: 2.56s\tremaining: 25.9s\n",
      "90:\tlearn: 0.4230650\ttotal: 2.58s\tremaining: 25.8s\n",
      "91:\tlearn: 0.4229553\ttotal: 2.62s\tremaining: 25.8s\n",
      "92:\tlearn: 0.4229066\ttotal: 2.64s\tremaining: 25.8s\n",
      "93:\tlearn: 0.4228376\ttotal: 2.68s\tremaining: 25.8s\n",
      "94:\tlearn: 0.4227770\ttotal: 2.7s\tremaining: 25.7s\n",
      "95:\tlearn: 0.4226900\ttotal: 2.73s\tremaining: 25.7s\n",
      "96:\tlearn: 0.4226540\ttotal: 2.75s\tremaining: 25.6s\n",
      "97:\tlearn: 0.4225520\ttotal: 2.77s\tremaining: 25.5s\n",
      "98:\tlearn: 0.4224516\ttotal: 2.8s\tremaining: 25.5s\n",
      "99:\tlearn: 0.4223603\ttotal: 2.84s\tremaining: 25.6s\n",
      "100:\tlearn: 0.4222757\ttotal: 2.88s\tremaining: 25.7s\n",
      "101:\tlearn: 0.4222063\ttotal: 2.92s\tremaining: 25.7s\n",
      "102:\tlearn: 0.4221799\ttotal: 2.96s\tremaining: 25.7s\n",
      "103:\tlearn: 0.4221217\ttotal: 2.99s\tremaining: 25.7s\n",
      "104:\tlearn: 0.4220824\ttotal: 3.02s\tremaining: 25.7s\n",
      "105:\tlearn: 0.4219500\ttotal: 3.04s\tremaining: 25.7s\n",
      "106:\tlearn: 0.4218928\ttotal: 3.07s\tremaining: 25.6s\n",
      "107:\tlearn: 0.4217528\ttotal: 3.11s\tremaining: 25.7s\n",
      "108:\tlearn: 0.4217345\ttotal: 3.13s\tremaining: 25.6s\n",
      "109:\tlearn: 0.4217006\ttotal: 3.16s\tremaining: 25.6s\n",
      "110:\tlearn: 0.4215652\ttotal: 3.19s\tremaining: 25.6s\n",
      "111:\tlearn: 0.4215137\ttotal: 3.21s\tremaining: 25.5s\n",
      "112:\tlearn: 0.4214511\ttotal: 3.24s\tremaining: 25.4s\n",
      "113:\tlearn: 0.4213597\ttotal: 3.28s\tremaining: 25.5s\n",
      "114:\tlearn: 0.4212149\ttotal: 3.3s\tremaining: 25.4s\n",
      "115:\tlearn: 0.4211280\ttotal: 3.32s\tremaining: 25.3s\n",
      "116:\tlearn: 0.4210167\ttotal: 3.35s\tremaining: 25.3s\n",
      "117:\tlearn: 0.4209726\ttotal: 3.38s\tremaining: 25.2s\n",
      "118:\tlearn: 0.4209547\ttotal: 3.4s\tremaining: 25.2s\n",
      "119:\tlearn: 0.4208923\ttotal: 3.43s\tremaining: 25.2s\n",
      "120:\tlearn: 0.4207887\ttotal: 3.45s\tremaining: 25.1s\n",
      "121:\tlearn: 0.4206662\ttotal: 3.49s\tremaining: 25.1s\n",
      "122:\tlearn: 0.4206224\ttotal: 3.52s\tremaining: 25.1s\n",
      "123:\tlearn: 0.4205924\ttotal: 3.55s\tremaining: 25.1s\n",
      "124:\tlearn: 0.4205034\ttotal: 3.58s\tremaining: 25.1s\n",
      "125:\tlearn: 0.4204154\ttotal: 3.62s\tremaining: 25.1s\n",
      "126:\tlearn: 0.4203754\ttotal: 3.66s\tremaining: 25.1s\n",
      "127:\tlearn: 0.4203514\ttotal: 3.68s\tremaining: 25.1s\n",
      "128:\tlearn: 0.4202717\ttotal: 3.72s\tremaining: 25.1s\n",
      "129:\tlearn: 0.4202269\ttotal: 3.75s\tremaining: 25.1s\n",
      "130:\tlearn: 0.4201841\ttotal: 3.77s\tremaining: 25s\n",
      "131:\tlearn: 0.4201000\ttotal: 3.81s\tremaining: 25s\n",
      "132:\tlearn: 0.4199672\ttotal: 3.84s\tremaining: 25s\n",
      "133:\tlearn: 0.4199095\ttotal: 3.86s\tremaining: 24.9s\n",
      "134:\tlearn: 0.4197475\ttotal: 3.89s\tremaining: 24.9s\n",
      "135:\tlearn: 0.4196354\ttotal: 3.91s\tremaining: 24.9s\n",
      "136:\tlearn: 0.4195303\ttotal: 3.94s\tremaining: 24.8s\n",
      "137:\tlearn: 0.4194601\ttotal: 3.97s\tremaining: 24.8s\n",
      "138:\tlearn: 0.4193629\ttotal: 4s\tremaining: 24.8s\n",
      "139:\tlearn: 0.4193326\ttotal: 4.02s\tremaining: 24.7s\n",
      "140:\tlearn: 0.4192856\ttotal: 4.04s\tremaining: 24.6s\n",
      "141:\tlearn: 0.4192566\ttotal: 4.06s\tremaining: 24.6s\n",
      "142:\tlearn: 0.4192456\ttotal: 4.09s\tremaining: 24.5s\n",
      "143:\tlearn: 0.4192157\ttotal: 4.11s\tremaining: 24.4s\n",
      "144:\tlearn: 0.4191928\ttotal: 4.14s\tremaining: 24.4s\n",
      "145:\tlearn: 0.4191145\ttotal: 4.17s\tremaining: 24.4s\n",
      "146:\tlearn: 0.4190608\ttotal: 4.19s\tremaining: 24.3s\n",
      "147:\tlearn: 0.4189984\ttotal: 4.21s\tremaining: 24.3s\n",
      "148:\tlearn: 0.4188929\ttotal: 4.24s\tremaining: 24.2s\n",
      "149:\tlearn: 0.4187356\ttotal: 4.26s\tremaining: 24.1s\n",
      "150:\tlearn: 0.4187019\ttotal: 4.28s\tremaining: 24.1s\n",
      "151:\tlearn: 0.4186831\ttotal: 4.31s\tremaining: 24.1s\n",
      "152:\tlearn: 0.4185890\ttotal: 4.34s\tremaining: 24.1s\n",
      "153:\tlearn: 0.4185201\ttotal: 4.37s\tremaining: 24s\n",
      "154:\tlearn: 0.4184930\ttotal: 4.39s\tremaining: 23.9s\n",
      "155:\tlearn: 0.4184678\ttotal: 4.41s\tremaining: 23.9s\n",
      "156:\tlearn: 0.4183555\ttotal: 4.43s\tremaining: 23.8s\n",
      "157:\tlearn: 0.4183179\ttotal: 4.46s\tremaining: 23.8s\n",
      "158:\tlearn: 0.4182095\ttotal: 4.49s\tremaining: 23.8s\n",
      "159:\tlearn: 0.4181902\ttotal: 4.52s\tremaining: 23.7s\n",
      "160:\tlearn: 0.4181769\ttotal: 4.54s\tremaining: 23.7s\n",
      "161:\tlearn: 0.4181616\ttotal: 4.56s\tremaining: 23.6s\n",
      "162:\tlearn: 0.4181423\ttotal: 4.58s\tremaining: 23.5s\n",
      "163:\tlearn: 0.4181116\ttotal: 4.61s\tremaining: 23.5s\n",
      "164:\tlearn: 0.4180641\ttotal: 4.63s\tremaining: 23.4s\n",
      "165:\tlearn: 0.4180456\ttotal: 4.66s\tremaining: 23.4s\n"
     ]
    },
    {
     "name": "stdout",
     "output_type": "stream",
     "text": [
      "166:\tlearn: 0.4179882\ttotal: 4.69s\tremaining: 23.4s\n",
      "167:\tlearn: 0.4179616\ttotal: 4.72s\tremaining: 23.4s\n",
      "168:\tlearn: 0.4178610\ttotal: 4.75s\tremaining: 23.4s\n",
      "169:\tlearn: 0.4177243\ttotal: 4.78s\tremaining: 23.3s\n",
      "170:\tlearn: 0.4177015\ttotal: 4.81s\tremaining: 23.3s\n",
      "171:\tlearn: 0.4176729\ttotal: 4.83s\tremaining: 23.3s\n",
      "172:\tlearn: 0.4176411\ttotal: 4.86s\tremaining: 23.2s\n",
      "173:\tlearn: 0.4175867\ttotal: 4.9s\tremaining: 23.3s\n",
      "174:\tlearn: 0.4175426\ttotal: 4.93s\tremaining: 23.2s\n",
      "175:\tlearn: 0.4174820\ttotal: 4.96s\tremaining: 23.2s\n",
      "176:\tlearn: 0.4174466\ttotal: 4.98s\tremaining: 23.2s\n",
      "177:\tlearn: 0.4173537\ttotal: 5.01s\tremaining: 23.1s\n",
      "178:\tlearn: 0.4173002\ttotal: 5.03s\tremaining: 23.1s\n",
      "179:\tlearn: 0.4172489\ttotal: 5.06s\tremaining: 23s\n",
      "180:\tlearn: 0.4172165\ttotal: 5.09s\tremaining: 23s\n",
      "181:\tlearn: 0.4171912\ttotal: 5.11s\tremaining: 23s\n",
      "182:\tlearn: 0.4171467\ttotal: 5.14s\tremaining: 22.9s\n",
      "183:\tlearn: 0.4171124\ttotal: 5.16s\tremaining: 22.9s\n",
      "184:\tlearn: 0.4170874\ttotal: 5.18s\tremaining: 22.8s\n",
      "185:\tlearn: 0.4170072\ttotal: 5.21s\tremaining: 22.8s\n",
      "186:\tlearn: 0.4169935\ttotal: 5.23s\tremaining: 22.7s\n",
      "187:\tlearn: 0.4169388\ttotal: 5.25s\tremaining: 22.7s\n",
      "188:\tlearn: 0.4169188\ttotal: 5.28s\tremaining: 22.7s\n",
      "189:\tlearn: 0.4168924\ttotal: 5.3s\tremaining: 22.6s\n",
      "190:\tlearn: 0.4167822\ttotal: 5.33s\tremaining: 22.6s\n",
      "191:\tlearn: 0.4166770\ttotal: 5.35s\tremaining: 22.5s\n",
      "192:\tlearn: 0.4166463\ttotal: 5.37s\tremaining: 22.5s\n",
      "193:\tlearn: 0.4166001\ttotal: 5.4s\tremaining: 22.4s\n",
      "194:\tlearn: 0.4165841\ttotal: 5.42s\tremaining: 22.4s\n",
      "195:\tlearn: 0.4165589\ttotal: 5.44s\tremaining: 22.3s\n",
      "196:\tlearn: 0.4165298\ttotal: 5.47s\tremaining: 22.3s\n",
      "197:\tlearn: 0.4165228\ttotal: 5.49s\tremaining: 22.2s\n",
      "198:\tlearn: 0.4165085\ttotal: 5.51s\tremaining: 22.2s\n",
      "199:\tlearn: 0.4164679\ttotal: 5.55s\tremaining: 22.2s\n",
      "200:\tlearn: 0.4164400\ttotal: 5.58s\tremaining: 22.2s\n",
      "201:\tlearn: 0.4164230\ttotal: 5.6s\tremaining: 22.1s\n",
      "202:\tlearn: 0.4164042\ttotal: 5.63s\tremaining: 22.1s\n",
      "203:\tlearn: 0.4163602\ttotal: 5.65s\tremaining: 22s\n",
      "204:\tlearn: 0.4163197\ttotal: 5.69s\tremaining: 22.1s\n",
      "205:\tlearn: 0.4162805\ttotal: 5.71s\tremaining: 22s\n",
      "206:\tlearn: 0.4162369\ttotal: 5.74s\tremaining: 22s\n",
      "207:\tlearn: 0.4161778\ttotal: 5.76s\tremaining: 21.9s\n",
      "208:\tlearn: 0.4161587\ttotal: 5.78s\tremaining: 21.9s\n",
      "209:\tlearn: 0.4160703\ttotal: 5.82s\tremaining: 21.9s\n",
      "210:\tlearn: 0.4160523\ttotal: 5.84s\tremaining: 21.9s\n",
      "211:\tlearn: 0.4159560\ttotal: 5.87s\tremaining: 21.8s\n",
      "212:\tlearn: 0.4159124\ttotal: 5.89s\tremaining: 21.8s\n",
      "213:\tlearn: 0.4159031\ttotal: 5.91s\tremaining: 21.7s\n",
      "214:\tlearn: 0.4158768\ttotal: 5.93s\tremaining: 21.7s\n",
      "215:\tlearn: 0.4158423\ttotal: 5.96s\tremaining: 21.6s\n",
      "216:\tlearn: 0.4157453\ttotal: 5.99s\tremaining: 21.6s\n",
      "217:\tlearn: 0.4157321\ttotal: 6.02s\tremaining: 21.6s\n",
      "218:\tlearn: 0.4157100\ttotal: 6.04s\tremaining: 21.6s\n",
      "219:\tlearn: 0.4156567\ttotal: 6.07s\tremaining: 21.5s\n",
      "220:\tlearn: 0.4156490\ttotal: 6.09s\tremaining: 21.5s\n",
      "221:\tlearn: 0.4156014\ttotal: 6.12s\tremaining: 21.4s\n",
      "222:\tlearn: 0.4155528\ttotal: 6.14s\tremaining: 21.4s\n",
      "223:\tlearn: 0.4154990\ttotal: 6.16s\tremaining: 21.4s\n",
      "224:\tlearn: 0.4154643\ttotal: 6.18s\tremaining: 21.3s\n",
      "225:\tlearn: 0.4154164\ttotal: 6.21s\tremaining: 21.3s\n",
      "226:\tlearn: 0.4153737\ttotal: 6.24s\tremaining: 21.2s\n",
      "227:\tlearn: 0.4153159\ttotal: 6.26s\tremaining: 21.2s\n",
      "228:\tlearn: 0.4153078\ttotal: 6.28s\tremaining: 21.2s\n",
      "229:\tlearn: 0.4152761\ttotal: 6.3s\tremaining: 21.1s\n",
      "230:\tlearn: 0.4152164\ttotal: 6.33s\tremaining: 21.1s\n",
      "231:\tlearn: 0.4152090\ttotal: 6.35s\tremaining: 21s\n",
      "232:\tlearn: 0.4151876\ttotal: 6.37s\tremaining: 21s\n",
      "233:\tlearn: 0.4151277\ttotal: 6.4s\tremaining: 21s\n",
      "234:\tlearn: 0.4150706\ttotal: 6.43s\tremaining: 20.9s\n",
      "235:\tlearn: 0.4150219\ttotal: 6.45s\tremaining: 20.9s\n",
      "236:\tlearn: 0.4149859\ttotal: 6.47s\tremaining: 20.8s\n",
      "237:\tlearn: 0.4149704\ttotal: 6.5s\tremaining: 20.8s\n",
      "238:\tlearn: 0.4149347\ttotal: 6.52s\tremaining: 20.8s\n",
      "239:\tlearn: 0.4148881\ttotal: 6.55s\tremaining: 20.7s\n",
      "240:\tlearn: 0.4148758\ttotal: 6.59s\tremaining: 20.8s\n",
      "241:\tlearn: 0.4148002\ttotal: 6.62s\tremaining: 20.7s\n",
      "242:\tlearn: 0.4147787\ttotal: 6.64s\tremaining: 20.7s\n",
      "243:\tlearn: 0.4147460\ttotal: 6.67s\tremaining: 20.7s\n",
      "244:\tlearn: 0.4147151\ttotal: 6.72s\tremaining: 20.7s\n",
      "245:\tlearn: 0.4146896\ttotal: 6.75s\tremaining: 20.7s\n",
      "246:\tlearn: 0.4146652\ttotal: 6.79s\tremaining: 20.7s\n",
      "247:\tlearn: 0.4146022\ttotal: 6.81s\tremaining: 20.7s\n",
      "248:\tlearn: 0.4145019\ttotal: 6.84s\tremaining: 20.6s\n",
      "249:\tlearn: 0.4144518\ttotal: 6.87s\tremaining: 20.6s\n",
      "250:\tlearn: 0.4144483\ttotal: 6.9s\tremaining: 20.6s\n",
      "251:\tlearn: 0.4144113\ttotal: 6.93s\tremaining: 20.6s\n",
      "252:\tlearn: 0.4143568\ttotal: 6.96s\tremaining: 20.5s\n",
      "253:\tlearn: 0.4143299\ttotal: 6.98s\tremaining: 20.5s\n",
      "254:\tlearn: 0.4143182\ttotal: 7.01s\tremaining: 20.5s\n",
      "255:\tlearn: 0.4142548\ttotal: 7.04s\tremaining: 20.4s\n",
      "256:\tlearn: 0.4142400\ttotal: 7.06s\tremaining: 20.4s\n",
      "257:\tlearn: 0.4142237\ttotal: 7.08s\tremaining: 20.4s\n",
      "258:\tlearn: 0.4142094\ttotal: 7.1s\tremaining: 20.3s\n",
      "259:\tlearn: 0.4141884\ttotal: 7.12s\tremaining: 20.3s\n",
      "260:\tlearn: 0.4141763\ttotal: 7.14s\tremaining: 20.2s\n",
      "261:\tlearn: 0.4141691\ttotal: 7.16s\tremaining: 20.2s\n",
      "262:\tlearn: 0.4141511\ttotal: 7.2s\tremaining: 20.2s\n",
      "263:\tlearn: 0.4140875\ttotal: 7.24s\tremaining: 20.2s\n",
      "264:\tlearn: 0.4140367\ttotal: 7.27s\tremaining: 20.2s\n",
      "265:\tlearn: 0.4140072\ttotal: 7.31s\tremaining: 20.2s\n",
      "266:\tlearn: 0.4139651\ttotal: 7.34s\tremaining: 20.2s\n",
      "267:\tlearn: 0.4139551\ttotal: 7.37s\tremaining: 20.1s\n",
      "268:\tlearn: 0.4139355\ttotal: 7.4s\tremaining: 20.1s\n",
      "269:\tlearn: 0.4139025\ttotal: 7.44s\tremaining: 20.1s\n",
      "270:\tlearn: 0.4138827\ttotal: 7.47s\tremaining: 20.1s\n",
      "271:\tlearn: 0.4138445\ttotal: 7.51s\tremaining: 20.1s\n",
      "272:\tlearn: 0.4138283\ttotal: 7.55s\tremaining: 20.1s\n",
      "273:\tlearn: 0.4137779\ttotal: 7.58s\tremaining: 20.1s\n",
      "274:\tlearn: 0.4137629\ttotal: 7.61s\tremaining: 20.1s\n",
      "275:\tlearn: 0.4137118\ttotal: 7.64s\tremaining: 20.1s\n",
      "276:\tlearn: 0.4136991\ttotal: 7.67s\tremaining: 20s\n",
      "277:\tlearn: 0.4136354\ttotal: 7.7s\tremaining: 20s\n",
      "278:\tlearn: 0.4136132\ttotal: 7.72s\tremaining: 19.9s\n",
      "279:\tlearn: 0.4135549\ttotal: 7.75s\tremaining: 19.9s\n",
      "280:\tlearn: 0.4135133\ttotal: 7.78s\tremaining: 19.9s\n",
      "281:\tlearn: 0.4134794\ttotal: 7.8s\tremaining: 19.9s\n",
      "282:\tlearn: 0.4134683\ttotal: 7.82s\tremaining: 19.8s\n",
      "283:\tlearn: 0.4134014\ttotal: 7.85s\tremaining: 19.8s\n",
      "284:\tlearn: 0.4133768\ttotal: 7.88s\tremaining: 19.8s\n",
      "285:\tlearn: 0.4133536\ttotal: 7.92s\tremaining: 19.8s\n",
      "286:\tlearn: 0.4133362\ttotal: 7.96s\tremaining: 19.8s\n",
      "287:\tlearn: 0.4132846\ttotal: 8s\tremaining: 19.8s\n",
      "288:\tlearn: 0.4132612\ttotal: 8.04s\tremaining: 19.8s\n",
      "289:\tlearn: 0.4132413\ttotal: 8.08s\tremaining: 19.8s\n",
      "290:\tlearn: 0.4132314\ttotal: 8.12s\tremaining: 19.8s\n",
      "291:\tlearn: 0.4131947\ttotal: 8.14s\tremaining: 19.7s\n",
      "292:\tlearn: 0.4131835\ttotal: 8.17s\tremaining: 19.7s\n",
      "293:\tlearn: 0.4131643\ttotal: 8.19s\tremaining: 19.7s\n",
      "294:\tlearn: 0.4131541\ttotal: 8.22s\tremaining: 19.6s\n",
      "295:\tlearn: 0.4131402\ttotal: 8.24s\tremaining: 19.6s\n",
      "296:\tlearn: 0.4131261\ttotal: 8.26s\tremaining: 19.6s\n",
      "297:\tlearn: 0.4130701\ttotal: 8.29s\tremaining: 19.5s\n",
      "298:\tlearn: 0.4130365\ttotal: 8.32s\tremaining: 19.5s\n",
      "299:\tlearn: 0.4130267\ttotal: 8.35s\tremaining: 19.5s\n",
      "300:\tlearn: 0.4129924\ttotal: 8.39s\tremaining: 19.5s\n",
      "301:\tlearn: 0.4129676\ttotal: 8.41s\tremaining: 19.4s\n",
      "302:\tlearn: 0.4129586\ttotal: 8.46s\tremaining: 19.4s\n",
      "303:\tlearn: 0.4129341\ttotal: 8.49s\tremaining: 19.4s\n",
      "304:\tlearn: 0.4128818\ttotal: 8.52s\tremaining: 19.4s\n",
      "305:\tlearn: 0.4128528\ttotal: 8.55s\tremaining: 19.4s\n",
      "306:\tlearn: 0.4128304\ttotal: 8.57s\tremaining: 19.4s\n",
      "307:\tlearn: 0.4128226\ttotal: 8.6s\tremaining: 19.3s\n",
      "308:\tlearn: 0.4128087\ttotal: 8.62s\tremaining: 19.3s\n",
      "309:\tlearn: 0.4127878\ttotal: 8.66s\tremaining: 19.3s\n",
      "310:\tlearn: 0.4127403\ttotal: 8.7s\tremaining: 19.3s\n",
      "311:\tlearn: 0.4127158\ttotal: 8.73s\tremaining: 19.3s\n",
      "312:\tlearn: 0.4127020\ttotal: 8.76s\tremaining: 19.2s\n",
      "313:\tlearn: 0.4126891\ttotal: 8.79s\tremaining: 19.2s\n",
      "314:\tlearn: 0.4126601\ttotal: 8.81s\tremaining: 19.2s\n",
      "315:\tlearn: 0.4126428\ttotal: 8.85s\tremaining: 19.2s\n",
      "316:\tlearn: 0.4126298\ttotal: 8.87s\tremaining: 19.1s\n",
      "317:\tlearn: 0.4125928\ttotal: 8.89s\tremaining: 19.1s\n",
      "318:\tlearn: 0.4125825\ttotal: 8.92s\tremaining: 19s\n",
      "319:\tlearn: 0.4125601\ttotal: 8.95s\tremaining: 19s\n",
      "320:\tlearn: 0.4125467\ttotal: 8.98s\tremaining: 19s\n",
      "321:\tlearn: 0.4125418\ttotal: 9s\tremaining: 19s\n",
      "322:\tlearn: 0.4125311\ttotal: 9.04s\tremaining: 19s\n",
      "323:\tlearn: 0.4125152\ttotal: 9.09s\tremaining: 19s\n",
      "324:\tlearn: 0.4124971\ttotal: 9.13s\tremaining: 19s\n"
     ]
    },
    {
     "name": "stdout",
     "output_type": "stream",
     "text": [
      "325:\tlearn: 0.4124760\ttotal: 9.16s\tremaining: 18.9s\n",
      "326:\tlearn: 0.4124644\ttotal: 9.19s\tremaining: 18.9s\n",
      "327:\tlearn: 0.4124445\ttotal: 9.22s\tremaining: 18.9s\n",
      "328:\tlearn: 0.4124294\ttotal: 9.26s\tremaining: 18.9s\n",
      "329:\tlearn: 0.4123917\ttotal: 9.28s\tremaining: 18.9s\n",
      "330:\tlearn: 0.4123869\ttotal: 9.3s\tremaining: 18.8s\n",
      "331:\tlearn: 0.4123664\ttotal: 9.33s\tremaining: 18.8s\n",
      "332:\tlearn: 0.4123556\ttotal: 9.37s\tremaining: 18.8s\n",
      "333:\tlearn: 0.4123394\ttotal: 9.41s\tremaining: 18.8s\n",
      "334:\tlearn: 0.4122790\ttotal: 9.45s\tremaining: 18.8s\n",
      "335:\tlearn: 0.4122644\ttotal: 9.48s\tremaining: 18.7s\n",
      "336:\tlearn: 0.4121866\ttotal: 9.52s\tremaining: 18.7s\n",
      "337:\tlearn: 0.4121405\ttotal: 9.56s\tremaining: 18.7s\n",
      "338:\tlearn: 0.4121220\ttotal: 9.58s\tremaining: 18.7s\n",
      "339:\tlearn: 0.4121177\ttotal: 9.6s\tremaining: 18.6s\n",
      "340:\tlearn: 0.4120978\ttotal: 9.63s\tremaining: 18.6s\n",
      "341:\tlearn: 0.4120879\ttotal: 9.67s\tremaining: 18.6s\n",
      "342:\tlearn: 0.4120155\ttotal: 9.7s\tremaining: 18.6s\n",
      "343:\tlearn: 0.4119935\ttotal: 9.73s\tremaining: 18.6s\n",
      "344:\tlearn: 0.4119497\ttotal: 9.77s\tremaining: 18.5s\n",
      "345:\tlearn: 0.4119334\ttotal: 9.8s\tremaining: 18.5s\n",
      "346:\tlearn: 0.4119181\ttotal: 9.84s\tremaining: 18.5s\n",
      "347:\tlearn: 0.4118949\ttotal: 9.86s\tremaining: 18.5s\n",
      "348:\tlearn: 0.4118638\ttotal: 9.88s\tremaining: 18.4s\n",
      "349:\tlearn: 0.4118526\ttotal: 9.92s\tremaining: 18.4s\n",
      "350:\tlearn: 0.4118459\ttotal: 9.94s\tremaining: 18.4s\n",
      "351:\tlearn: 0.4118398\ttotal: 9.98s\tremaining: 18.4s\n",
      "352:\tlearn: 0.4118068\ttotal: 10s\tremaining: 18.4s\n",
      "353:\tlearn: 0.4117818\ttotal: 10.1s\tremaining: 18.3s\n",
      "354:\tlearn: 0.4117574\ttotal: 10.1s\tremaining: 18.3s\n",
      "355:\tlearn: 0.4117467\ttotal: 10.1s\tremaining: 18.3s\n",
      "356:\tlearn: 0.4117237\ttotal: 10.1s\tremaining: 18.3s\n",
      "357:\tlearn: 0.4116996\ttotal: 10.2s\tremaining: 18.3s\n",
      "358:\tlearn: 0.4116685\ttotal: 10.2s\tremaining: 18.2s\n",
      "359:\tlearn: 0.4116609\ttotal: 10.2s\tremaining: 18.2s\n",
      "360:\tlearn: 0.4116353\ttotal: 10.3s\tremaining: 18.2s\n",
      "361:\tlearn: 0.4116258\ttotal: 10.3s\tremaining: 18.2s\n",
      "362:\tlearn: 0.4116050\ttotal: 10.4s\tremaining: 18.2s\n",
      "363:\tlearn: 0.4115880\ttotal: 10.4s\tremaining: 18.2s\n",
      "364:\tlearn: 0.4115665\ttotal: 10.5s\tremaining: 18.2s\n",
      "365:\tlearn: 0.4115135\ttotal: 10.5s\tremaining: 18.2s\n",
      "366:\tlearn: 0.4115111\ttotal: 10.5s\tremaining: 18.2s\n",
      "367:\tlearn: 0.4114984\ttotal: 10.6s\tremaining: 18.2s\n",
      "368:\tlearn: 0.4114877\ttotal: 10.6s\tremaining: 18.1s\n",
      "369:\tlearn: 0.4114641\ttotal: 10.6s\tremaining: 18.1s\n",
      "370:\tlearn: 0.4114315\ttotal: 10.7s\tremaining: 18.1s\n",
      "371:\tlearn: 0.4113723\ttotal: 10.7s\tremaining: 18.1s\n",
      "372:\tlearn: 0.4113570\ttotal: 10.8s\tremaining: 18.1s\n",
      "373:\tlearn: 0.4113322\ttotal: 10.8s\tremaining: 18s\n",
      "374:\tlearn: 0.4112904\ttotal: 10.8s\tremaining: 18s\n",
      "375:\tlearn: 0.4112452\ttotal: 10.8s\tremaining: 18s\n",
      "376:\tlearn: 0.4112304\ttotal: 10.9s\tremaining: 18s\n",
      "377:\tlearn: 0.4112174\ttotal: 10.9s\tremaining: 18s\n",
      "378:\tlearn: 0.4111841\ttotal: 11s\tremaining: 18s\n",
      "379:\tlearn: 0.4111719\ttotal: 11s\tremaining: 17.9s\n",
      "380:\tlearn: 0.4111329\ttotal: 11s\tremaining: 17.9s\n",
      "381:\tlearn: 0.4111198\ttotal: 11s\tremaining: 17.9s\n",
      "382:\tlearn: 0.4111098\ttotal: 11.1s\tremaining: 17.8s\n",
      "383:\tlearn: 0.4110992\ttotal: 11.1s\tremaining: 17.8s\n",
      "384:\tlearn: 0.4110661\ttotal: 11.2s\tremaining: 17.8s\n",
      "385:\tlearn: 0.4110575\ttotal: 11.2s\tremaining: 17.8s\n",
      "386:\tlearn: 0.4109942\ttotal: 11.2s\tremaining: 17.8s\n",
      "387:\tlearn: 0.4109729\ttotal: 11.3s\tremaining: 17.7s\n",
      "388:\tlearn: 0.4109574\ttotal: 11.3s\tremaining: 17.7s\n",
      "389:\tlearn: 0.4109383\ttotal: 11.3s\tremaining: 17.7s\n",
      "390:\tlearn: 0.4108907\ttotal: 11.3s\tremaining: 17.7s\n",
      "391:\tlearn: 0.4108640\ttotal: 11.4s\tremaining: 17.6s\n",
      "392:\tlearn: 0.4108477\ttotal: 11.4s\tremaining: 17.6s\n",
      "393:\tlearn: 0.4108340\ttotal: 11.4s\tremaining: 17.6s\n",
      "394:\tlearn: 0.4108095\ttotal: 11.5s\tremaining: 17.6s\n",
      "395:\tlearn: 0.4107882\ttotal: 11.5s\tremaining: 17.6s\n",
      "396:\tlearn: 0.4107646\ttotal: 11.6s\tremaining: 17.6s\n",
      "397:\tlearn: 0.4107465\ttotal: 11.6s\tremaining: 17.5s\n",
      "398:\tlearn: 0.4107249\ttotal: 11.6s\tremaining: 17.5s\n",
      "399:\tlearn: 0.4106888\ttotal: 11.7s\tremaining: 17.5s\n",
      "400:\tlearn: 0.4106822\ttotal: 11.7s\tremaining: 17.4s\n",
      "401:\tlearn: 0.4106575\ttotal: 11.7s\tremaining: 17.4s\n",
      "402:\tlearn: 0.4106359\ttotal: 11.7s\tremaining: 17.4s\n",
      "403:\tlearn: 0.4106205\ttotal: 11.7s\tremaining: 17.3s\n",
      "404:\tlearn: 0.4106113\ttotal: 11.8s\tremaining: 17.3s\n",
      "405:\tlearn: 0.4106001\ttotal: 11.8s\tremaining: 17.3s\n",
      "406:\tlearn: 0.4105848\ttotal: 11.8s\tremaining: 17.2s\n",
      "407:\tlearn: 0.4105707\ttotal: 11.9s\tremaining: 17.2s\n",
      "408:\tlearn: 0.4105587\ttotal: 11.9s\tremaining: 17.2s\n",
      "409:\tlearn: 0.4105495\ttotal: 11.9s\tremaining: 17.1s\n",
      "410:\tlearn: 0.4105323\ttotal: 11.9s\tremaining: 17.1s\n",
      "411:\tlearn: 0.4105127\ttotal: 11.9s\tremaining: 17.1s\n",
      "412:\tlearn: 0.4104920\ttotal: 12s\tremaining: 17s\n",
      "413:\tlearn: 0.4104615\ttotal: 12s\tremaining: 17s\n",
      "414:\tlearn: 0.4104479\ttotal: 12s\tremaining: 17s\n",
      "415:\tlearn: 0.4104294\ttotal: 12.1s\tremaining: 16.9s\n",
      "416:\tlearn: 0.4104261\ttotal: 12.1s\tremaining: 16.9s\n",
      "417:\tlearn: 0.4104131\ttotal: 12.1s\tremaining: 16.9s\n",
      "418:\tlearn: 0.4103812\ttotal: 12.1s\tremaining: 16.8s\n",
      "419:\tlearn: 0.4103567\ttotal: 12.2s\tremaining: 16.8s\n",
      "420:\tlearn: 0.4103183\ttotal: 12.2s\tremaining: 16.8s\n",
      "421:\tlearn: 0.4103063\ttotal: 12.2s\tremaining: 16.7s\n",
      "422:\tlearn: 0.4102756\ttotal: 12.2s\tremaining: 16.7s\n",
      "423:\tlearn: 0.4102504\ttotal: 12.3s\tremaining: 16.6s\n",
      "424:\tlearn: 0.4102332\ttotal: 12.3s\tremaining: 16.6s\n",
      "425:\tlearn: 0.4102179\ttotal: 12.3s\tremaining: 16.6s\n",
      "426:\tlearn: 0.4101955\ttotal: 12.3s\tremaining: 16.5s\n",
      "427:\tlearn: 0.4101807\ttotal: 12.3s\tremaining: 16.5s\n",
      "428:\tlearn: 0.4101711\ttotal: 12.4s\tremaining: 16.5s\n",
      "429:\tlearn: 0.4101658\ttotal: 12.4s\tremaining: 16.4s\n",
      "430:\tlearn: 0.4101443\ttotal: 12.4s\tremaining: 16.4s\n",
      "431:\tlearn: 0.4101287\ttotal: 12.4s\tremaining: 16.4s\n",
      "432:\tlearn: 0.4101004\ttotal: 12.5s\tremaining: 16.3s\n",
      "433:\tlearn: 0.4100828\ttotal: 12.5s\tremaining: 16.3s\n",
      "434:\tlearn: 0.4100437\ttotal: 12.5s\tremaining: 16.3s\n",
      "435:\tlearn: 0.4100299\ttotal: 12.5s\tremaining: 16.2s\n",
      "436:\tlearn: 0.4100082\ttotal: 12.6s\tremaining: 16.2s\n",
      "437:\tlearn: 0.4099895\ttotal: 12.6s\tremaining: 16.1s\n",
      "438:\tlearn: 0.4099806\ttotal: 12.6s\tremaining: 16.1s\n",
      "439:\tlearn: 0.4099755\ttotal: 12.6s\tremaining: 16.1s\n",
      "440:\tlearn: 0.4099620\ttotal: 12.7s\tremaining: 16.1s\n",
      "441:\tlearn: 0.4099390\ttotal: 12.7s\tremaining: 16s\n",
      "442:\tlearn: 0.4099228\ttotal: 12.7s\tremaining: 16s\n",
      "443:\tlearn: 0.4099147\ttotal: 12.7s\tremaining: 15.9s\n",
      "444:\tlearn: 0.4099055\ttotal: 12.8s\tremaining: 15.9s\n",
      "445:\tlearn: 0.4098896\ttotal: 12.8s\tremaining: 15.9s\n",
      "446:\tlearn: 0.4098610\ttotal: 12.8s\tremaining: 15.9s\n",
      "447:\tlearn: 0.4098483\ttotal: 12.8s\tremaining: 15.8s\n",
      "448:\tlearn: 0.4098269\ttotal: 12.9s\tremaining: 15.8s\n",
      "449:\tlearn: 0.4098187\ttotal: 12.9s\tremaining: 15.8s\n",
      "450:\tlearn: 0.4097986\ttotal: 12.9s\tremaining: 15.7s\n",
      "451:\tlearn: 0.4097699\ttotal: 12.9s\tremaining: 15.7s\n",
      "452:\tlearn: 0.4097620\ttotal: 13s\tremaining: 15.7s\n",
      "453:\tlearn: 0.4097513\ttotal: 13s\tremaining: 15.6s\n",
      "454:\tlearn: 0.4097455\ttotal: 13s\tremaining: 15.6s\n",
      "455:\tlearn: 0.4097359\ttotal: 13s\tremaining: 15.6s\n",
      "456:\tlearn: 0.4097076\ttotal: 13.1s\tremaining: 15.5s\n",
      "457:\tlearn: 0.4096906\ttotal: 13.1s\tremaining: 15.5s\n",
      "458:\tlearn: 0.4096392\ttotal: 13.1s\tremaining: 15.5s\n",
      "459:\tlearn: 0.4096263\ttotal: 13.2s\tremaining: 15.4s\n",
      "460:\tlearn: 0.4095905\ttotal: 13.2s\tremaining: 15.4s\n",
      "461:\tlearn: 0.4095289\ttotal: 13.2s\tremaining: 15.4s\n",
      "462:\tlearn: 0.4095038\ttotal: 13.2s\tremaining: 15.3s\n",
      "463:\tlearn: 0.4094840\ttotal: 13.3s\tremaining: 15.3s\n",
      "464:\tlearn: 0.4094751\ttotal: 13.3s\tremaining: 15.3s\n",
      "465:\tlearn: 0.4094537\ttotal: 13.3s\tremaining: 15.2s\n",
      "466:\tlearn: 0.4094485\ttotal: 13.3s\tremaining: 15.2s\n",
      "467:\tlearn: 0.4094289\ttotal: 13.3s\tremaining: 15.2s\n",
      "468:\tlearn: 0.4094042\ttotal: 13.4s\tremaining: 15.2s\n",
      "469:\tlearn: 0.4093880\ttotal: 13.4s\tremaining: 15.1s\n",
      "470:\tlearn: 0.4093774\ttotal: 13.4s\tremaining: 15.1s\n",
      "471:\tlearn: 0.4093680\ttotal: 13.5s\tremaining: 15.1s\n",
      "472:\tlearn: 0.4093545\ttotal: 13.5s\tremaining: 15s\n",
      "473:\tlearn: 0.4093468\ttotal: 13.5s\tremaining: 15s\n",
      "474:\tlearn: 0.4093286\ttotal: 13.5s\tremaining: 15s\n",
      "475:\tlearn: 0.4093192\ttotal: 13.6s\tremaining: 14.9s\n",
      "476:\tlearn: 0.4093025\ttotal: 13.6s\tremaining: 14.9s\n",
      "477:\tlearn: 0.4092931\ttotal: 13.6s\tremaining: 14.9s\n",
      "478:\tlearn: 0.4092843\ttotal: 13.6s\tremaining: 14.8s\n",
      "479:\tlearn: 0.4092552\ttotal: 13.7s\tremaining: 14.8s\n",
      "480:\tlearn: 0.4092431\ttotal: 13.7s\tremaining: 14.8s\n",
      "481:\tlearn: 0.4092361\ttotal: 13.7s\tremaining: 14.7s\n",
      "482:\tlearn: 0.4092246\ttotal: 13.7s\tremaining: 14.7s\n",
      "483:\tlearn: 0.4091901\ttotal: 13.8s\tremaining: 14.7s\n",
      "484:\tlearn: 0.4091735\ttotal: 13.8s\tremaining: 14.6s\n",
      "485:\tlearn: 0.4091479\ttotal: 13.8s\tremaining: 14.6s\n",
      "486:\tlearn: 0.4091329\ttotal: 13.8s\tremaining: 14.6s\n",
      "487:\tlearn: 0.4091250\ttotal: 13.9s\tremaining: 14.5s\n",
      "488:\tlearn: 0.4091059\ttotal: 13.9s\tremaining: 14.5s\n",
      "489:\tlearn: 0.4091010\ttotal: 13.9s\tremaining: 14.5s\n"
     ]
    },
    {
     "name": "stdout",
     "output_type": "stream",
     "text": [
      "490:\tlearn: 0.4090833\ttotal: 13.9s\tremaining: 14.4s\n",
      "491:\tlearn: 0.4090622\ttotal: 14s\tremaining: 14.4s\n",
      "492:\tlearn: 0.4090479\ttotal: 14s\tremaining: 14.4s\n",
      "493:\tlearn: 0.4090121\ttotal: 14s\tremaining: 14.3s\n",
      "494:\tlearn: 0.4089918\ttotal: 14s\tremaining: 14.3s\n",
      "495:\tlearn: 0.4089585\ttotal: 14.1s\tremaining: 14.3s\n",
      "496:\tlearn: 0.4089149\ttotal: 14.1s\tremaining: 14.3s\n",
      "497:\tlearn: 0.4088854\ttotal: 14.1s\tremaining: 14.3s\n",
      "498:\tlearn: 0.4088758\ttotal: 14.2s\tremaining: 14.2s\n",
      "499:\tlearn: 0.4088623\ttotal: 14.2s\tremaining: 14.2s\n",
      "500:\tlearn: 0.4088543\ttotal: 14.2s\tremaining: 14.2s\n",
      "501:\tlearn: 0.4088459\ttotal: 14.3s\tremaining: 14.2s\n",
      "502:\tlearn: 0.4088307\ttotal: 14.3s\tremaining: 14.1s\n",
      "503:\tlearn: 0.4088095\ttotal: 14.4s\tremaining: 14.1s\n",
      "504:\tlearn: 0.4087966\ttotal: 14.4s\tremaining: 14.1s\n",
      "505:\tlearn: 0.4087824\ttotal: 14.4s\tremaining: 14.1s\n",
      "506:\tlearn: 0.4087765\ttotal: 14.4s\tremaining: 14s\n",
      "507:\tlearn: 0.4087558\ttotal: 14.5s\tremaining: 14s\n",
      "508:\tlearn: 0.4087345\ttotal: 14.5s\tremaining: 14s\n",
      "509:\tlearn: 0.4087304\ttotal: 14.5s\tremaining: 14s\n",
      "510:\tlearn: 0.4087003\ttotal: 14.6s\tremaining: 13.9s\n",
      "511:\tlearn: 0.4086925\ttotal: 14.6s\tremaining: 13.9s\n",
      "512:\tlearn: 0.4086675\ttotal: 14.6s\tremaining: 13.9s\n",
      "513:\tlearn: 0.4086641\ttotal: 14.6s\tremaining: 13.8s\n",
      "514:\tlearn: 0.4086519\ttotal: 14.6s\tremaining: 13.8s\n",
      "515:\tlearn: 0.4086406\ttotal: 14.7s\tremaining: 13.8s\n",
      "516:\tlearn: 0.4086212\ttotal: 14.7s\tremaining: 13.7s\n",
      "517:\tlearn: 0.4085949\ttotal: 14.7s\tremaining: 13.7s\n",
      "518:\tlearn: 0.4085868\ttotal: 14.7s\tremaining: 13.7s\n",
      "519:\tlearn: 0.4085710\ttotal: 14.8s\tremaining: 13.6s\n",
      "520:\tlearn: 0.4085470\ttotal: 14.8s\tremaining: 13.6s\n",
      "521:\tlearn: 0.4085420\ttotal: 14.8s\tremaining: 13.6s\n",
      "522:\tlearn: 0.4085276\ttotal: 14.8s\tremaining: 13.5s\n",
      "523:\tlearn: 0.4085142\ttotal: 14.9s\tremaining: 13.5s\n",
      "524:\tlearn: 0.4084725\ttotal: 14.9s\tremaining: 13.5s\n",
      "525:\tlearn: 0.4084556\ttotal: 14.9s\tremaining: 13.4s\n",
      "526:\tlearn: 0.4084434\ttotal: 14.9s\tremaining: 13.4s\n",
      "527:\tlearn: 0.4084078\ttotal: 15s\tremaining: 13.4s\n",
      "528:\tlearn: 0.4083971\ttotal: 15s\tremaining: 13.3s\n",
      "529:\tlearn: 0.4083737\ttotal: 15s\tremaining: 13.3s\n",
      "530:\tlearn: 0.4083511\ttotal: 15s\tremaining: 13.3s\n",
      "531:\tlearn: 0.4083433\ttotal: 15.1s\tremaining: 13.2s\n",
      "532:\tlearn: 0.4083352\ttotal: 15.1s\tremaining: 13.2s\n",
      "533:\tlearn: 0.4083231\ttotal: 15.1s\tremaining: 13.2s\n",
      "534:\tlearn: 0.4083130\ttotal: 15.2s\tremaining: 13.2s\n",
      "535:\tlearn: 0.4083013\ttotal: 15.2s\tremaining: 13.2s\n",
      "536:\tlearn: 0.4082937\ttotal: 15.3s\tremaining: 13.2s\n",
      "537:\tlearn: 0.4082671\ttotal: 15.3s\tremaining: 13.1s\n",
      "538:\tlearn: 0.4082437\ttotal: 15.4s\tremaining: 13.1s\n",
      "539:\tlearn: 0.4082306\ttotal: 15.4s\tremaining: 13.1s\n",
      "540:\tlearn: 0.4082165\ttotal: 15.4s\tremaining: 13.1s\n",
      "541:\tlearn: 0.4082042\ttotal: 15.5s\tremaining: 13.1s\n",
      "542:\tlearn: 0.4081966\ttotal: 15.6s\tremaining: 13.1s\n",
      "543:\tlearn: 0.4081663\ttotal: 15.6s\tremaining: 13.1s\n",
      "544:\tlearn: 0.4081565\ttotal: 15.6s\tremaining: 13s\n",
      "545:\tlearn: 0.4081460\ttotal: 15.6s\tremaining: 13s\n",
      "546:\tlearn: 0.4081374\ttotal: 15.7s\tremaining: 13s\n",
      "547:\tlearn: 0.4081249\ttotal: 15.7s\tremaining: 13s\n",
      "548:\tlearn: 0.4081193\ttotal: 15.7s\tremaining: 12.9s\n",
      "549:\tlearn: 0.4081112\ttotal: 15.8s\tremaining: 12.9s\n",
      "550:\tlearn: 0.4081069\ttotal: 15.8s\tremaining: 12.9s\n",
      "551:\tlearn: 0.4081039\ttotal: 15.8s\tremaining: 12.8s\n",
      "552:\tlearn: 0.4080759\ttotal: 15.9s\tremaining: 12.8s\n",
      "553:\tlearn: 0.4080689\ttotal: 15.9s\tremaining: 12.8s\n",
      "554:\tlearn: 0.4080566\ttotal: 15.9s\tremaining: 12.8s\n",
      "555:\tlearn: 0.4080427\ttotal: 16s\tremaining: 12.8s\n",
      "556:\tlearn: 0.4080363\ttotal: 16s\tremaining: 12.8s\n",
      "557:\tlearn: 0.4080174\ttotal: 16.1s\tremaining: 12.7s\n",
      "558:\tlearn: 0.4080061\ttotal: 16.1s\tremaining: 12.7s\n",
      "559:\tlearn: 0.4079902\ttotal: 16.2s\tremaining: 12.7s\n",
      "560:\tlearn: 0.4079819\ttotal: 16.2s\tremaining: 12.7s\n",
      "561:\tlearn: 0.4079726\ttotal: 16.2s\tremaining: 12.6s\n",
      "562:\tlearn: 0.4079549\ttotal: 16.2s\tremaining: 12.6s\n",
      "563:\tlearn: 0.4079516\ttotal: 16.3s\tremaining: 12.6s\n",
      "564:\tlearn: 0.4079412\ttotal: 16.3s\tremaining: 12.5s\n",
      "565:\tlearn: 0.4079306\ttotal: 16.3s\tremaining: 12.5s\n",
      "566:\tlearn: 0.4079251\ttotal: 16.4s\tremaining: 12.5s\n",
      "567:\tlearn: 0.4078905\ttotal: 16.4s\tremaining: 12.5s\n",
      "568:\tlearn: 0.4078758\ttotal: 16.4s\tremaining: 12.4s\n",
      "569:\tlearn: 0.4078633\ttotal: 16.5s\tremaining: 12.4s\n",
      "570:\tlearn: 0.4078592\ttotal: 16.5s\tremaining: 12.4s\n",
      "571:\tlearn: 0.4078474\ttotal: 16.5s\tremaining: 12.4s\n",
      "572:\tlearn: 0.4078276\ttotal: 16.6s\tremaining: 12.3s\n",
      "573:\tlearn: 0.4078113\ttotal: 16.6s\tremaining: 12.3s\n",
      "574:\tlearn: 0.4078068\ttotal: 16.6s\tremaining: 12.3s\n",
      "575:\tlearn: 0.4077969\ttotal: 16.6s\tremaining: 12.2s\n",
      "576:\tlearn: 0.4077665\ttotal: 16.7s\tremaining: 12.2s\n",
      "577:\tlearn: 0.4077588\ttotal: 16.7s\tremaining: 12.2s\n",
      "578:\tlearn: 0.4077455\ttotal: 16.7s\tremaining: 12.2s\n",
      "579:\tlearn: 0.4077396\ttotal: 16.8s\tremaining: 12.2s\n",
      "580:\tlearn: 0.4077302\ttotal: 16.8s\tremaining: 12.1s\n",
      "581:\tlearn: 0.4077205\ttotal: 16.9s\tremaining: 12.1s\n",
      "582:\tlearn: 0.4077069\ttotal: 16.9s\tremaining: 12.1s\n",
      "583:\tlearn: 0.4076781\ttotal: 16.9s\tremaining: 12s\n",
      "584:\tlearn: 0.4076528\ttotal: 16.9s\tremaining: 12s\n",
      "585:\tlearn: 0.4076459\ttotal: 17s\tremaining: 12s\n",
      "586:\tlearn: 0.4076361\ttotal: 17s\tremaining: 12s\n",
      "587:\tlearn: 0.4076350\ttotal: 17s\tremaining: 11.9s\n",
      "588:\tlearn: 0.4076225\ttotal: 17.1s\tremaining: 11.9s\n",
      "589:\tlearn: 0.4075642\ttotal: 17.1s\tremaining: 11.9s\n",
      "590:\tlearn: 0.4075123\ttotal: 17.2s\tremaining: 11.9s\n",
      "591:\tlearn: 0.4074815\ttotal: 17.2s\tremaining: 11.8s\n",
      "592:\tlearn: 0.4074668\ttotal: 17.2s\tremaining: 11.8s\n",
      "593:\tlearn: 0.4074416\ttotal: 17.2s\tremaining: 11.8s\n",
      "594:\tlearn: 0.4074276\ttotal: 17.3s\tremaining: 11.8s\n",
      "595:\tlearn: 0.4074208\ttotal: 17.3s\tremaining: 11.7s\n",
      "596:\tlearn: 0.4074124\ttotal: 17.3s\tremaining: 11.7s\n",
      "597:\tlearn: 0.4073996\ttotal: 17.4s\tremaining: 11.7s\n",
      "598:\tlearn: 0.4073941\ttotal: 17.4s\tremaining: 11.6s\n",
      "599:\tlearn: 0.4073878\ttotal: 17.4s\tremaining: 11.6s\n",
      "600:\tlearn: 0.4073618\ttotal: 17.5s\tremaining: 11.6s\n",
      "601:\tlearn: 0.4073525\ttotal: 17.5s\tremaining: 11.6s\n",
      "602:\tlearn: 0.4073413\ttotal: 17.5s\tremaining: 11.5s\n",
      "603:\tlearn: 0.4073353\ttotal: 17.5s\tremaining: 11.5s\n",
      "604:\tlearn: 0.4072985\ttotal: 17.6s\tremaining: 11.5s\n",
      "605:\tlearn: 0.4072675\ttotal: 17.6s\tremaining: 11.4s\n",
      "606:\tlearn: 0.4072600\ttotal: 17.6s\tremaining: 11.4s\n",
      "607:\tlearn: 0.4072499\ttotal: 17.7s\tremaining: 11.4s\n",
      "608:\tlearn: 0.4072327\ttotal: 17.7s\tremaining: 11.4s\n",
      "609:\tlearn: 0.4072193\ttotal: 17.7s\tremaining: 11.3s\n",
      "610:\tlearn: 0.4072050\ttotal: 17.8s\tremaining: 11.3s\n",
      "611:\tlearn: 0.4071973\ttotal: 17.8s\tremaining: 11.3s\n",
      "612:\tlearn: 0.4071857\ttotal: 17.8s\tremaining: 11.3s\n",
      "613:\tlearn: 0.4071566\ttotal: 17.9s\tremaining: 11.2s\n",
      "614:\tlearn: 0.4071386\ttotal: 17.9s\tremaining: 11.2s\n",
      "615:\tlearn: 0.4071283\ttotal: 17.9s\tremaining: 11.2s\n",
      "616:\tlearn: 0.4071247\ttotal: 18s\tremaining: 11.2s\n",
      "617:\tlearn: 0.4071189\ttotal: 18s\tremaining: 11.1s\n",
      "618:\tlearn: 0.4071073\ttotal: 18s\tremaining: 11.1s\n",
      "619:\tlearn: 0.4070986\ttotal: 18.1s\tremaining: 11.1s\n",
      "620:\tlearn: 0.4070858\ttotal: 18.1s\tremaining: 11s\n",
      "621:\tlearn: 0.4070788\ttotal: 18.1s\tremaining: 11s\n",
      "622:\tlearn: 0.4070716\ttotal: 18.1s\tremaining: 11s\n",
      "623:\tlearn: 0.4070312\ttotal: 18.2s\tremaining: 10.9s\n",
      "624:\tlearn: 0.4070266\ttotal: 18.2s\tremaining: 10.9s\n",
      "625:\tlearn: 0.4070205\ttotal: 18.2s\tremaining: 10.9s\n",
      "626:\tlearn: 0.4069949\ttotal: 18.2s\tremaining: 10.9s\n",
      "627:\tlearn: 0.4069653\ttotal: 18.3s\tremaining: 10.8s\n",
      "628:\tlearn: 0.4069421\ttotal: 18.3s\tremaining: 10.8s\n",
      "629:\tlearn: 0.4069285\ttotal: 18.4s\tremaining: 10.8s\n",
      "630:\tlearn: 0.4069240\ttotal: 18.4s\tremaining: 10.8s\n",
      "631:\tlearn: 0.4069024\ttotal: 18.4s\tremaining: 10.7s\n",
      "632:\tlearn: 0.4068708\ttotal: 18.5s\tremaining: 10.7s\n",
      "633:\tlearn: 0.4068648\ttotal: 18.5s\tremaining: 10.7s\n",
      "634:\tlearn: 0.4068487\ttotal: 18.5s\tremaining: 10.6s\n",
      "635:\tlearn: 0.4068352\ttotal: 18.5s\tremaining: 10.6s\n",
      "636:\tlearn: 0.4068235\ttotal: 18.6s\tremaining: 10.6s\n",
      "637:\tlearn: 0.4068171\ttotal: 18.6s\tremaining: 10.6s\n",
      "638:\tlearn: 0.4068110\ttotal: 18.6s\tremaining: 10.5s\n",
      "639:\tlearn: 0.4068041\ttotal: 18.7s\tremaining: 10.5s\n",
      "640:\tlearn: 0.4067911\ttotal: 18.7s\tremaining: 10.5s\n",
      "641:\tlearn: 0.4067826\ttotal: 18.7s\tremaining: 10.4s\n",
      "642:\tlearn: 0.4067796\ttotal: 18.8s\tremaining: 10.4s\n",
      "643:\tlearn: 0.4067744\ttotal: 18.8s\tremaining: 10.4s\n",
      "644:\tlearn: 0.4067558\ttotal: 18.8s\tremaining: 10.3s\n",
      "645:\tlearn: 0.4067484\ttotal: 18.8s\tremaining: 10.3s\n",
      "646:\tlearn: 0.4067400\ttotal: 18.9s\tremaining: 10.3s\n",
      "647:\tlearn: 0.4067218\ttotal: 18.9s\tremaining: 10.3s\n",
      "648:\tlearn: 0.4067119\ttotal: 18.9s\tremaining: 10.2s\n",
      "649:\tlearn: 0.4066940\ttotal: 18.9s\tremaining: 10.2s\n"
     ]
    },
    {
     "name": "stdout",
     "output_type": "stream",
     "text": [
      "650:\tlearn: 0.4066694\ttotal: 19s\tremaining: 10.2s\n",
      "651:\tlearn: 0.4066609\ttotal: 19s\tremaining: 10.1s\n",
      "652:\tlearn: 0.4066575\ttotal: 19s\tremaining: 10.1s\n",
      "653:\tlearn: 0.4066421\ttotal: 19.1s\tremaining: 10.1s\n",
      "654:\tlearn: 0.4066285\ttotal: 19.1s\tremaining: 10.1s\n",
      "655:\tlearn: 0.4066220\ttotal: 19.1s\tremaining: 10s\n",
      "656:\tlearn: 0.4066125\ttotal: 19.2s\tremaining: 10s\n",
      "657:\tlearn: 0.4065961\ttotal: 19.2s\tremaining: 9.97s\n",
      "658:\tlearn: 0.4065793\ttotal: 19.2s\tremaining: 9.95s\n",
      "659:\tlearn: 0.4065662\ttotal: 19.3s\tremaining: 9.93s\n",
      "660:\tlearn: 0.4065518\ttotal: 19.3s\tremaining: 9.9s\n",
      "661:\tlearn: 0.4065312\ttotal: 19.3s\tremaining: 9.87s\n",
      "662:\tlearn: 0.4065150\ttotal: 19.4s\tremaining: 9.84s\n",
      "663:\tlearn: 0.4065095\ttotal: 19.4s\tremaining: 9.81s\n",
      "664:\tlearn: 0.4064991\ttotal: 19.4s\tremaining: 9.79s\n",
      "665:\tlearn: 0.4064960\ttotal: 19.5s\tremaining: 9.76s\n",
      "666:\tlearn: 0.4064847\ttotal: 19.5s\tremaining: 9.73s\n",
      "667:\tlearn: 0.4064772\ttotal: 19.5s\tremaining: 9.71s\n",
      "668:\tlearn: 0.4064672\ttotal: 19.6s\tremaining: 9.68s\n",
      "669:\tlearn: 0.4064557\ttotal: 19.6s\tremaining: 9.65s\n",
      "670:\tlearn: 0.4064477\ttotal: 19.6s\tremaining: 9.63s\n",
      "671:\tlearn: 0.4064399\ttotal: 19.7s\tremaining: 9.59s\n",
      "672:\tlearn: 0.4064273\ttotal: 19.7s\tremaining: 9.56s\n",
      "673:\tlearn: 0.4064175\ttotal: 19.7s\tremaining: 9.53s\n",
      "674:\tlearn: 0.4064034\ttotal: 19.7s\tremaining: 9.5s\n",
      "675:\tlearn: 0.4063953\ttotal: 19.8s\tremaining: 9.47s\n",
      "676:\tlearn: 0.4063708\ttotal: 19.8s\tremaining: 9.45s\n",
      "677:\tlearn: 0.4063676\ttotal: 19.8s\tremaining: 9.43s\n",
      "678:\tlearn: 0.4063591\ttotal: 19.9s\tremaining: 9.4s\n",
      "679:\tlearn: 0.4063429\ttotal: 19.9s\tremaining: 9.37s\n",
      "680:\tlearn: 0.4063325\ttotal: 19.9s\tremaining: 9.34s\n",
      "681:\tlearn: 0.4063206\ttotal: 20s\tremaining: 9.31s\n",
      "682:\tlearn: 0.4063051\ttotal: 20s\tremaining: 9.28s\n",
      "683:\tlearn: 0.4062921\ttotal: 20s\tremaining: 9.24s\n",
      "684:\tlearn: 0.4062821\ttotal: 20.1s\tremaining: 9.22s\n",
      "685:\tlearn: 0.4062753\ttotal: 20.1s\tremaining: 9.2s\n",
      "686:\tlearn: 0.4062582\ttotal: 20.1s\tremaining: 9.17s\n",
      "687:\tlearn: 0.4062183\ttotal: 20.2s\tremaining: 9.15s\n",
      "688:\tlearn: 0.4062092\ttotal: 20.2s\tremaining: 9.12s\n",
      "689:\tlearn: 0.4062078\ttotal: 20.2s\tremaining: 9.09s\n",
      "690:\tlearn: 0.4061913\ttotal: 20.3s\tremaining: 9.05s\n",
      "691:\tlearn: 0.4061794\ttotal: 20.3s\tremaining: 9.02s\n",
      "692:\tlearn: 0.4061654\ttotal: 20.3s\tremaining: 8.99s\n",
      "693:\tlearn: 0.4061518\ttotal: 20.3s\tremaining: 8.96s\n",
      "694:\tlearn: 0.4061416\ttotal: 20.3s\tremaining: 8.93s\n",
      "695:\tlearn: 0.4061355\ttotal: 20.4s\tremaining: 8.89s\n",
      "696:\tlearn: 0.4061275\ttotal: 20.4s\tremaining: 8.87s\n",
      "697:\tlearn: 0.4061259\ttotal: 20.4s\tremaining: 8.84s\n",
      "698:\tlearn: 0.4061127\ttotal: 20.4s\tremaining: 8.8s\n",
      "699:\tlearn: 0.4060962\ttotal: 20.5s\tremaining: 8.77s\n",
      "700:\tlearn: 0.4060795\ttotal: 20.5s\tremaining: 8.74s\n",
      "701:\tlearn: 0.4060689\ttotal: 20.5s\tremaining: 8.71s\n",
      "702:\tlearn: 0.4060645\ttotal: 20.5s\tremaining: 8.68s\n",
      "703:\tlearn: 0.4060585\ttotal: 20.6s\tremaining: 8.65s\n",
      "704:\tlearn: 0.4060453\ttotal: 20.6s\tremaining: 8.62s\n",
      "705:\tlearn: 0.4060066\ttotal: 20.6s\tremaining: 8.59s\n",
      "706:\tlearn: 0.4059763\ttotal: 20.7s\tremaining: 8.56s\n",
      "707:\tlearn: 0.4059620\ttotal: 20.7s\tremaining: 8.53s\n",
      "708:\tlearn: 0.4059542\ttotal: 20.7s\tremaining: 8.5s\n",
      "709:\tlearn: 0.4059457\ttotal: 20.7s\tremaining: 8.47s\n",
      "710:\tlearn: 0.4059428\ttotal: 20.8s\tremaining: 8.44s\n",
      "711:\tlearn: 0.4058803\ttotal: 20.8s\tremaining: 8.41s\n",
      "712:\tlearn: 0.4058702\ttotal: 20.8s\tremaining: 8.38s\n",
      "713:\tlearn: 0.4058420\ttotal: 20.9s\tremaining: 8.35s\n",
      "714:\tlearn: 0.4058259\ttotal: 20.9s\tremaining: 8.32s\n",
      "715:\tlearn: 0.4058017\ttotal: 20.9s\tremaining: 8.29s\n",
      "716:\tlearn: 0.4057886\ttotal: 20.9s\tremaining: 8.26s\n",
      "717:\tlearn: 0.4057805\ttotal: 20.9s\tremaining: 8.23s\n",
      "718:\tlearn: 0.4057649\ttotal: 21s\tremaining: 8.21s\n",
      "719:\tlearn: 0.4057613\ttotal: 21s\tremaining: 8.18s\n",
      "720:\tlearn: 0.4057514\ttotal: 21.1s\tremaining: 8.15s\n",
      "721:\tlearn: 0.4057410\ttotal: 21.1s\tremaining: 8.13s\n",
      "722:\tlearn: 0.4057337\ttotal: 21.1s\tremaining: 8.1s\n",
      "723:\tlearn: 0.4057209\ttotal: 21.2s\tremaining: 8.07s\n",
      "724:\tlearn: 0.4057152\ttotal: 21.2s\tremaining: 8.04s\n",
      "725:\tlearn: 0.4057031\ttotal: 21.2s\tremaining: 8.01s\n",
      "726:\tlearn: 0.4056965\ttotal: 21.3s\tremaining: 7.98s\n",
      "727:\tlearn: 0.4056918\ttotal: 21.3s\tremaining: 7.95s\n",
      "728:\tlearn: 0.4056888\ttotal: 21.3s\tremaining: 7.92s\n",
      "729:\tlearn: 0.4056811\ttotal: 21.3s\tremaining: 7.88s\n",
      "730:\tlearn: 0.4056707\ttotal: 21.4s\tremaining: 7.86s\n",
      "731:\tlearn: 0.4056392\ttotal: 21.4s\tremaining: 7.83s\n",
      "732:\tlearn: 0.4056296\ttotal: 21.4s\tremaining: 7.8s\n",
      "733:\tlearn: 0.4056170\ttotal: 21.5s\tremaining: 7.78s\n",
      "734:\tlearn: 0.4056051\ttotal: 21.5s\tremaining: 7.75s\n",
      "735:\tlearn: 0.4055939\ttotal: 21.5s\tremaining: 7.72s\n",
      "736:\tlearn: 0.4055557\ttotal: 21.6s\tremaining: 7.7s\n",
      "737:\tlearn: 0.4055501\ttotal: 21.6s\tremaining: 7.67s\n",
      "738:\tlearn: 0.4055438\ttotal: 21.6s\tremaining: 7.63s\n",
      "739:\tlearn: 0.4055354\ttotal: 21.6s\tremaining: 7.6s\n",
      "740:\tlearn: 0.4055268\ttotal: 21.7s\tremaining: 7.57s\n",
      "741:\tlearn: 0.4055199\ttotal: 21.7s\tremaining: 7.54s\n",
      "742:\tlearn: 0.4055106\ttotal: 21.7s\tremaining: 7.51s\n",
      "743:\tlearn: 0.4055006\ttotal: 21.7s\tremaining: 7.48s\n",
      "744:\tlearn: 0.4054750\ttotal: 21.8s\tremaining: 7.45s\n",
      "745:\tlearn: 0.4054634\ttotal: 21.8s\tremaining: 7.42s\n",
      "746:\tlearn: 0.4054585\ttotal: 21.8s\tremaining: 7.39s\n",
      "747:\tlearn: 0.4054429\ttotal: 21.8s\tremaining: 7.36s\n",
      "748:\tlearn: 0.4054335\ttotal: 21.9s\tremaining: 7.33s\n",
      "749:\tlearn: 0.4054217\ttotal: 21.9s\tremaining: 7.3s\n",
      "750:\tlearn: 0.4054115\ttotal: 21.9s\tremaining: 7.27s\n",
      "751:\tlearn: 0.4054091\ttotal: 22s\tremaining: 7.24s\n",
      "752:\tlearn: 0.4053976\ttotal: 22s\tremaining: 7.21s\n",
      "753:\tlearn: 0.4053652\ttotal: 22s\tremaining: 7.18s\n",
      "754:\tlearn: 0.4053445\ttotal: 22s\tremaining: 7.15s\n",
      "755:\tlearn: 0.4053360\ttotal: 22.1s\tremaining: 7.12s\n",
      "756:\tlearn: 0.4053310\ttotal: 22.1s\tremaining: 7.09s\n",
      "757:\tlearn: 0.4053229\ttotal: 22.1s\tremaining: 7.07s\n",
      "758:\tlearn: 0.4053091\ttotal: 22.2s\tremaining: 7.04s\n",
      "759:\tlearn: 0.4053002\ttotal: 22.2s\tremaining: 7.01s\n",
      "760:\tlearn: 0.4052893\ttotal: 22.2s\tremaining: 6.99s\n",
      "761:\tlearn: 0.4052793\ttotal: 22.3s\tremaining: 6.96s\n",
      "762:\tlearn: 0.4052752\ttotal: 22.3s\tremaining: 6.93s\n",
      "763:\tlearn: 0.4052562\ttotal: 22.3s\tremaining: 6.9s\n",
      "764:\tlearn: 0.4052275\ttotal: 22.4s\tremaining: 6.87s\n",
      "765:\tlearn: 0.4051989\ttotal: 22.4s\tremaining: 6.84s\n",
      "766:\tlearn: 0.4051939\ttotal: 22.4s\tremaining: 6.81s\n",
      "767:\tlearn: 0.4051900\ttotal: 22.4s\tremaining: 6.78s\n",
      "768:\tlearn: 0.4051814\ttotal: 22.5s\tremaining: 6.75s\n",
      "769:\tlearn: 0.4051721\ttotal: 22.5s\tremaining: 6.71s\n",
      "770:\tlearn: 0.4051614\ttotal: 22.5s\tremaining: 6.69s\n",
      "771:\tlearn: 0.4051384\ttotal: 22.6s\tremaining: 6.66s\n",
      "772:\tlearn: 0.4051307\ttotal: 22.6s\tremaining: 6.63s\n",
      "773:\tlearn: 0.4051242\ttotal: 22.6s\tremaining: 6.61s\n",
      "774:\tlearn: 0.4051195\ttotal: 22.7s\tremaining: 6.58s\n",
      "775:\tlearn: 0.4051135\ttotal: 22.7s\tremaining: 6.55s\n",
      "776:\tlearn: 0.4051072\ttotal: 22.7s\tremaining: 6.52s\n",
      "777:\tlearn: 0.4050995\ttotal: 22.8s\tremaining: 6.49s\n",
      "778:\tlearn: 0.4050763\ttotal: 22.8s\tremaining: 6.46s\n",
      "779:\tlearn: 0.4050695\ttotal: 22.8s\tremaining: 6.43s\n",
      "780:\tlearn: 0.4050224\ttotal: 22.8s\tremaining: 6.4s\n",
      "781:\tlearn: 0.4050069\ttotal: 22.9s\tremaining: 6.38s\n",
      "782:\tlearn: 0.4049932\ttotal: 22.9s\tremaining: 6.35s\n",
      "783:\tlearn: 0.4049868\ttotal: 22.9s\tremaining: 6.32s\n",
      "784:\tlearn: 0.4049775\ttotal: 23s\tremaining: 6.29s\n",
      "785:\tlearn: 0.4049620\ttotal: 23s\tremaining: 6.27s\n",
      "786:\tlearn: 0.4049392\ttotal: 23s\tremaining: 6.24s\n",
      "787:\tlearn: 0.4049235\ttotal: 23.1s\tremaining: 6.21s\n",
      "788:\tlearn: 0.4048925\ttotal: 23.1s\tremaining: 6.18s\n",
      "789:\tlearn: 0.4048808\ttotal: 23.1s\tremaining: 6.15s\n",
      "790:\tlearn: 0.4048710\ttotal: 23.2s\tremaining: 6.12s\n",
      "791:\tlearn: 0.4048539\ttotal: 23.2s\tremaining: 6.09s\n",
      "792:\tlearn: 0.4048462\ttotal: 23.2s\tremaining: 6.06s\n",
      "793:\tlearn: 0.4048310\ttotal: 23.2s\tremaining: 6.03s\n",
      "794:\tlearn: 0.4048119\ttotal: 23.3s\tremaining: 6s\n",
      "795:\tlearn: 0.4047993\ttotal: 23.3s\tremaining: 5.96s\n",
      "796:\tlearn: 0.4047932\ttotal: 23.3s\tremaining: 5.94s\n",
      "797:\tlearn: 0.4047872\ttotal: 23.3s\tremaining: 5.91s\n",
      "798:\tlearn: 0.4047806\ttotal: 23.4s\tremaining: 5.88s\n",
      "799:\tlearn: 0.4047700\ttotal: 23.4s\tremaining: 5.84s\n",
      "800:\tlearn: 0.4047653\ttotal: 23.4s\tremaining: 5.81s\n",
      "801:\tlearn: 0.4047555\ttotal: 23.4s\tremaining: 5.78s\n",
      "802:\tlearn: 0.4047518\ttotal: 23.4s\tremaining: 5.75s\n",
      "803:\tlearn: 0.4047489\ttotal: 23.5s\tremaining: 5.72s\n",
      "804:\tlearn: 0.4047294\ttotal: 23.5s\tremaining: 5.69s\n",
      "805:\tlearn: 0.4047173\ttotal: 23.5s\tremaining: 5.66s\n",
      "806:\tlearn: 0.4047132\ttotal: 23.6s\tremaining: 5.63s\n",
      "807:\tlearn: 0.4046944\ttotal: 23.6s\tremaining: 5.6s\n",
      "808:\tlearn: 0.4046900\ttotal: 23.6s\tremaining: 5.57s\n",
      "809:\tlearn: 0.4046724\ttotal: 23.6s\tremaining: 5.54s\n",
      "810:\tlearn: 0.4046697\ttotal: 23.6s\tremaining: 5.51s\n",
      "811:\tlearn: 0.4046617\ttotal: 23.7s\tremaining: 5.48s\n"
     ]
    },
    {
     "name": "stdout",
     "output_type": "stream",
     "text": [
      "812:\tlearn: 0.4046572\ttotal: 23.7s\tremaining: 5.45s\n",
      "813:\tlearn: 0.4046371\ttotal: 23.7s\tremaining: 5.42s\n",
      "814:\tlearn: 0.4046208\ttotal: 23.7s\tremaining: 5.39s\n",
      "815:\tlearn: 0.4046019\ttotal: 23.8s\tremaining: 5.36s\n",
      "816:\tlearn: 0.4045946\ttotal: 23.8s\tremaining: 5.33s\n",
      "817:\tlearn: 0.4045898\ttotal: 23.8s\tremaining: 5.3s\n",
      "818:\tlearn: 0.4045851\ttotal: 23.8s\tremaining: 5.27s\n",
      "819:\tlearn: 0.4045769\ttotal: 23.9s\tremaining: 5.24s\n",
      "820:\tlearn: 0.4045619\ttotal: 23.9s\tremaining: 5.21s\n",
      "821:\tlearn: 0.4045500\ttotal: 23.9s\tremaining: 5.18s\n",
      "822:\tlearn: 0.4045375\ttotal: 23.9s\tremaining: 5.15s\n",
      "823:\tlearn: 0.4045253\ttotal: 24s\tremaining: 5.12s\n",
      "824:\tlearn: 0.4045088\ttotal: 24s\tremaining: 5.09s\n",
      "825:\tlearn: 0.4044938\ttotal: 24s\tremaining: 5.06s\n",
      "826:\tlearn: 0.4044883\ttotal: 24s\tremaining: 5.03s\n",
      "827:\tlearn: 0.4044796\ttotal: 24.1s\tremaining: 5s\n",
      "828:\tlearn: 0.4044606\ttotal: 24.1s\tremaining: 4.97s\n",
      "829:\tlearn: 0.4044495\ttotal: 24.1s\tremaining: 4.94s\n",
      "830:\tlearn: 0.4044388\ttotal: 24.1s\tremaining: 4.91s\n",
      "831:\tlearn: 0.4044175\ttotal: 24.2s\tremaining: 4.88s\n",
      "832:\tlearn: 0.4043913\ttotal: 24.2s\tremaining: 4.85s\n",
      "833:\tlearn: 0.4043865\ttotal: 24.2s\tremaining: 4.82s\n",
      "834:\tlearn: 0.4043771\ttotal: 24.2s\tremaining: 4.79s\n",
      "835:\tlearn: 0.4043620\ttotal: 24.3s\tremaining: 4.76s\n",
      "836:\tlearn: 0.4043503\ttotal: 24.3s\tremaining: 4.73s\n",
      "837:\tlearn: 0.4043372\ttotal: 24.3s\tremaining: 4.7s\n",
      "838:\tlearn: 0.4043266\ttotal: 24.4s\tremaining: 4.67s\n",
      "839:\tlearn: 0.4043154\ttotal: 24.4s\tremaining: 4.65s\n",
      "840:\tlearn: 0.4043023\ttotal: 24.4s\tremaining: 4.62s\n",
      "841:\tlearn: 0.4042937\ttotal: 24.5s\tremaining: 4.59s\n",
      "842:\tlearn: 0.4042773\ttotal: 24.5s\tremaining: 4.57s\n",
      "843:\tlearn: 0.4042711\ttotal: 24.5s\tremaining: 4.54s\n",
      "844:\tlearn: 0.4042618\ttotal: 24.6s\tremaining: 4.51s\n",
      "845:\tlearn: 0.4042438\ttotal: 24.6s\tremaining: 4.48s\n",
      "846:\tlearn: 0.4042347\ttotal: 24.6s\tremaining: 4.45s\n",
      "847:\tlearn: 0.4042218\ttotal: 24.7s\tremaining: 4.42s\n",
      "848:\tlearn: 0.4042073\ttotal: 24.7s\tremaining: 4.39s\n",
      "849:\tlearn: 0.4042026\ttotal: 24.7s\tremaining: 4.36s\n",
      "850:\tlearn: 0.4041948\ttotal: 24.8s\tremaining: 4.33s\n",
      "851:\tlearn: 0.4041767\ttotal: 24.8s\tremaining: 4.31s\n",
      "852:\tlearn: 0.4041699\ttotal: 24.8s\tremaining: 4.28s\n",
      "853:\tlearn: 0.4041600\ttotal: 24.8s\tremaining: 4.25s\n",
      "854:\tlearn: 0.4041488\ttotal: 24.9s\tremaining: 4.22s\n",
      "855:\tlearn: 0.4041454\ttotal: 24.9s\tremaining: 4.19s\n",
      "856:\tlearn: 0.4041409\ttotal: 24.9s\tremaining: 4.16s\n",
      "857:\tlearn: 0.4041318\ttotal: 24.9s\tremaining: 4.13s\n",
      "858:\tlearn: 0.4041245\ttotal: 25s\tremaining: 4.1s\n",
      "859:\tlearn: 0.4041038\ttotal: 25s\tremaining: 4.07s\n",
      "860:\tlearn: 0.4040961\ttotal: 25.1s\tremaining: 4.04s\n",
      "861:\tlearn: 0.4040820\ttotal: 25.1s\tremaining: 4.02s\n",
      "862:\tlearn: 0.4040648\ttotal: 25.1s\tremaining: 3.99s\n",
      "863:\tlearn: 0.4040422\ttotal: 25.2s\tremaining: 3.96s\n",
      "864:\tlearn: 0.4040000\ttotal: 25.2s\tremaining: 3.93s\n",
      "865:\tlearn: 0.4039892\ttotal: 25.2s\tremaining: 3.9s\n",
      "866:\tlearn: 0.4039728\ttotal: 25.2s\tremaining: 3.87s\n",
      "867:\tlearn: 0.4039679\ttotal: 25.3s\tremaining: 3.84s\n",
      "868:\tlearn: 0.4039509\ttotal: 25.3s\tremaining: 3.81s\n",
      "869:\tlearn: 0.4039373\ttotal: 25.3s\tremaining: 3.78s\n",
      "870:\tlearn: 0.4039211\ttotal: 25.3s\tremaining: 3.75s\n",
      "871:\tlearn: 0.4039147\ttotal: 25.4s\tremaining: 3.72s\n",
      "872:\tlearn: 0.4039122\ttotal: 25.4s\tremaining: 3.69s\n",
      "873:\tlearn: 0.4038994\ttotal: 25.4s\tremaining: 3.66s\n",
      "874:\tlearn: 0.4038869\ttotal: 25.4s\tremaining: 3.63s\n",
      "875:\tlearn: 0.4038689\ttotal: 25.5s\tremaining: 3.6s\n",
      "876:\tlearn: 0.4038524\ttotal: 25.5s\tremaining: 3.57s\n",
      "877:\tlearn: 0.4038316\ttotal: 25.5s\tremaining: 3.54s\n",
      "878:\tlearn: 0.4038224\ttotal: 25.5s\tremaining: 3.52s\n",
      "879:\tlearn: 0.4037895\ttotal: 25.6s\tremaining: 3.49s\n",
      "880:\tlearn: 0.4037834\ttotal: 25.6s\tremaining: 3.46s\n",
      "881:\tlearn: 0.4037700\ttotal: 25.6s\tremaining: 3.43s\n",
      "882:\tlearn: 0.4037551\ttotal: 25.7s\tremaining: 3.4s\n",
      "883:\tlearn: 0.4037485\ttotal: 25.7s\tremaining: 3.38s\n",
      "884:\tlearn: 0.4037395\ttotal: 25.8s\tremaining: 3.35s\n",
      "885:\tlearn: 0.4037245\ttotal: 25.8s\tremaining: 3.32s\n",
      "886:\tlearn: 0.4037172\ttotal: 25.8s\tremaining: 3.29s\n",
      "887:\tlearn: 0.4037119\ttotal: 25.8s\tremaining: 3.26s\n",
      "888:\tlearn: 0.4037031\ttotal: 25.9s\tremaining: 3.23s\n",
      "889:\tlearn: 0.4036979\ttotal: 25.9s\tremaining: 3.2s\n",
      "890:\tlearn: 0.4036568\ttotal: 25.9s\tremaining: 3.17s\n",
      "891:\tlearn: 0.4036539\ttotal: 25.9s\tremaining: 3.14s\n",
      "892:\tlearn: 0.4036439\ttotal: 26s\tremaining: 3.11s\n",
      "893:\tlearn: 0.4036208\ttotal: 26s\tremaining: 3.08s\n",
      "894:\tlearn: 0.4036042\ttotal: 26s\tremaining: 3.05s\n",
      "895:\tlearn: 0.4035934\ttotal: 26.1s\tremaining: 3.02s\n",
      "896:\tlearn: 0.4035752\ttotal: 26.1s\tremaining: 3s\n",
      "897:\tlearn: 0.4035738\ttotal: 26.1s\tremaining: 2.97s\n",
      "898:\tlearn: 0.4035583\ttotal: 26.2s\tremaining: 2.94s\n",
      "899:\tlearn: 0.4035509\ttotal: 26.2s\tremaining: 2.91s\n",
      "900:\tlearn: 0.4035462\ttotal: 26.2s\tremaining: 2.88s\n",
      "901:\tlearn: 0.4035406\ttotal: 26.3s\tremaining: 2.85s\n",
      "902:\tlearn: 0.4035189\ttotal: 26.3s\tremaining: 2.82s\n",
      "903:\tlearn: 0.4035127\ttotal: 26.3s\tremaining: 2.8s\n",
      "904:\tlearn: 0.4034910\ttotal: 26.4s\tremaining: 2.77s\n",
      "905:\tlearn: 0.4034815\ttotal: 26.4s\tremaining: 2.74s\n",
      "906:\tlearn: 0.4034654\ttotal: 26.4s\tremaining: 2.71s\n",
      "907:\tlearn: 0.4034534\ttotal: 26.5s\tremaining: 2.68s\n",
      "908:\tlearn: 0.4034451\ttotal: 26.5s\tremaining: 2.65s\n",
      "909:\tlearn: 0.4034395\ttotal: 26.6s\tremaining: 2.63s\n",
      "910:\tlearn: 0.4034283\ttotal: 26.6s\tremaining: 2.6s\n",
      "911:\tlearn: 0.4034217\ttotal: 26.6s\tremaining: 2.57s\n",
      "912:\tlearn: 0.4034125\ttotal: 26.7s\tremaining: 2.54s\n",
      "913:\tlearn: 0.4034039\ttotal: 26.7s\tremaining: 2.51s\n",
      "914:\tlearn: 0.4034007\ttotal: 26.7s\tremaining: 2.48s\n",
      "915:\tlearn: 0.4033875\ttotal: 26.8s\tremaining: 2.46s\n",
      "916:\tlearn: 0.4033835\ttotal: 26.8s\tremaining: 2.43s\n",
      "917:\tlearn: 0.4033622\ttotal: 26.9s\tremaining: 2.4s\n",
      "918:\tlearn: 0.4033596\ttotal: 26.9s\tremaining: 2.37s\n",
      "919:\tlearn: 0.4033567\ttotal: 27s\tremaining: 2.34s\n",
      "920:\tlearn: 0.4033518\ttotal: 27s\tremaining: 2.31s\n",
      "921:\tlearn: 0.4033296\ttotal: 27s\tremaining: 2.29s\n",
      "922:\tlearn: 0.4033191\ttotal: 27s\tremaining: 2.26s\n",
      "923:\tlearn: 0.4033095\ttotal: 27.1s\tremaining: 2.23s\n",
      "924:\tlearn: 0.4033026\ttotal: 27.1s\tremaining: 2.2s\n",
      "925:\tlearn: 0.4032946\ttotal: 27.1s\tremaining: 2.17s\n",
      "926:\tlearn: 0.4032875\ttotal: 27.2s\tremaining: 2.14s\n",
      "927:\tlearn: 0.4032803\ttotal: 27.2s\tremaining: 2.11s\n",
      "928:\tlearn: 0.4032728\ttotal: 27.2s\tremaining: 2.08s\n",
      "929:\tlearn: 0.4032675\ttotal: 27.3s\tremaining: 2.05s\n",
      "930:\tlearn: 0.4032423\ttotal: 27.3s\tremaining: 2.02s\n",
      "931:\tlearn: 0.4032367\ttotal: 27.3s\tremaining: 1.99s\n",
      "932:\tlearn: 0.4032229\ttotal: 27.3s\tremaining: 1.96s\n",
      "933:\tlearn: 0.4032133\ttotal: 27.4s\tremaining: 1.93s\n",
      "934:\tlearn: 0.4032111\ttotal: 27.4s\tremaining: 1.9s\n",
      "935:\tlearn: 0.4032052\ttotal: 27.4s\tremaining: 1.88s\n",
      "936:\tlearn: 0.4031968\ttotal: 27.4s\tremaining: 1.84s\n",
      "937:\tlearn: 0.4031894\ttotal: 27.5s\tremaining: 1.81s\n",
      "938:\tlearn: 0.4031824\ttotal: 27.5s\tremaining: 1.79s\n",
      "939:\tlearn: 0.4031565\ttotal: 27.5s\tremaining: 1.76s\n",
      "940:\tlearn: 0.4031445\ttotal: 27.6s\tremaining: 1.73s\n",
      "941:\tlearn: 0.4031351\ttotal: 27.6s\tremaining: 1.7s\n",
      "942:\tlearn: 0.4031317\ttotal: 27.7s\tremaining: 1.67s\n",
      "943:\tlearn: 0.4031250\ttotal: 27.7s\tremaining: 1.64s\n",
      "944:\tlearn: 0.4031114\ttotal: 27.7s\tremaining: 1.61s\n",
      "945:\tlearn: 0.4031036\ttotal: 27.7s\tremaining: 1.58s\n",
      "946:\tlearn: 0.4030972\ttotal: 27.8s\tremaining: 1.55s\n",
      "947:\tlearn: 0.4030814\ttotal: 27.8s\tremaining: 1.52s\n",
      "948:\tlearn: 0.4030757\ttotal: 27.8s\tremaining: 1.5s\n",
      "949:\tlearn: 0.4030710\ttotal: 27.8s\tremaining: 1.47s\n",
      "950:\tlearn: 0.4030350\ttotal: 27.9s\tremaining: 1.44s\n",
      "951:\tlearn: 0.4030271\ttotal: 27.9s\tremaining: 1.41s\n",
      "952:\tlearn: 0.4030122\ttotal: 27.9s\tremaining: 1.38s\n",
      "953:\tlearn: 0.4030070\ttotal: 28s\tremaining: 1.35s\n",
      "954:\tlearn: 0.4029763\ttotal: 28s\tremaining: 1.32s\n",
      "955:\tlearn: 0.4029653\ttotal: 28s\tremaining: 1.29s\n",
      "956:\tlearn: 0.4029556\ttotal: 28s\tremaining: 1.26s\n",
      "957:\tlearn: 0.4029445\ttotal: 28.1s\tremaining: 1.23s\n",
      "958:\tlearn: 0.4029374\ttotal: 28.1s\tremaining: 1.2s\n",
      "959:\tlearn: 0.4029245\ttotal: 28.1s\tremaining: 1.17s\n",
      "960:\tlearn: 0.4028980\ttotal: 28.2s\tremaining: 1.14s\n",
      "961:\tlearn: 0.4028872\ttotal: 28.2s\tremaining: 1.11s\n",
      "962:\tlearn: 0.4028780\ttotal: 28.2s\tremaining: 1.08s\n",
      "963:\tlearn: 0.4028583\ttotal: 28.3s\tremaining: 1.05s\n",
      "964:\tlearn: 0.4028498\ttotal: 28.3s\tremaining: 1.03s\n",
      "965:\tlearn: 0.4028376\ttotal: 28.3s\tremaining: 997ms\n",
      "966:\tlearn: 0.4028220\ttotal: 28.4s\tremaining: 968ms\n",
      "967:\tlearn: 0.4028039\ttotal: 28.4s\tremaining: 938ms\n",
      "968:\tlearn: 0.4027993\ttotal: 28.4s\tremaining: 909ms\n",
      "969:\tlearn: 0.4027826\ttotal: 28.4s\tremaining: 879ms\n",
      "970:\tlearn: 0.4027780\ttotal: 28.5s\tremaining: 850ms\n",
      "971:\tlearn: 0.4027707\ttotal: 28.5s\tremaining: 821ms\n",
      "972:\tlearn: 0.4027569\ttotal: 28.5s\tremaining: 792ms\n",
      "973:\tlearn: 0.4027521\ttotal: 28.6s\tremaining: 762ms\n",
      "974:\tlearn: 0.4027366\ttotal: 28.6s\tremaining: 733ms\n",
      "975:\tlearn: 0.4027281\ttotal: 28.6s\tremaining: 703ms\n",
      "976:\tlearn: 0.4027206\ttotal: 28.6s\tremaining: 674ms\n"
     ]
    },
    {
     "name": "stdout",
     "output_type": "stream",
     "text": [
      "977:\tlearn: 0.4027096\ttotal: 28.7s\tremaining: 645ms\n",
      "978:\tlearn: 0.4026955\ttotal: 28.7s\tremaining: 615ms\n",
      "979:\tlearn: 0.4026893\ttotal: 28.7s\tremaining: 586ms\n",
      "980:\tlearn: 0.4026823\ttotal: 28.8s\tremaining: 557ms\n",
      "981:\tlearn: 0.4026720\ttotal: 28.8s\tremaining: 527ms\n",
      "982:\tlearn: 0.4026612\ttotal: 28.8s\tremaining: 498ms\n",
      "983:\tlearn: 0.4026406\ttotal: 28.8s\tremaining: 469ms\n",
      "984:\tlearn: 0.4026317\ttotal: 28.8s\tremaining: 439ms\n",
      "985:\tlearn: 0.4026225\ttotal: 28.9s\tremaining: 410ms\n",
      "986:\tlearn: 0.4026166\ttotal: 28.9s\tremaining: 381ms\n",
      "987:\tlearn: 0.4026076\ttotal: 28.9s\tremaining: 351ms\n",
      "988:\tlearn: 0.4025986\ttotal: 28.9s\tremaining: 322ms\n",
      "989:\tlearn: 0.4025927\ttotal: 29s\tremaining: 293ms\n",
      "990:\tlearn: 0.4025698\ttotal: 29s\tremaining: 263ms\n",
      "991:\tlearn: 0.4025625\ttotal: 29s\tremaining: 234ms\n",
      "992:\tlearn: 0.4025488\ttotal: 29.1s\tremaining: 205ms\n",
      "993:\tlearn: 0.4025387\ttotal: 29.1s\tremaining: 176ms\n",
      "994:\tlearn: 0.4025175\ttotal: 29.1s\tremaining: 146ms\n",
      "995:\tlearn: 0.4024779\ttotal: 29.2s\tremaining: 117ms\n",
      "996:\tlearn: 0.4024758\ttotal: 29.2s\tremaining: 87.9ms\n",
      "997:\tlearn: 0.4024474\ttotal: 29.2s\tremaining: 58.6ms\n",
      "998:\tlearn: 0.4024366\ttotal: 29.3s\tremaining: 29.3ms\n",
      "999:\tlearn: 0.4024223\ttotal: 29.3s\tremaining: 0us\n"
     ]
    }
   ],
   "source": [
    "# Treinamento da Máquina Preditiva\n",
    "# construção da maquina preditiva / numero de arvores de decisao 1000 / profundidade das arvores 4(para não ter problema de orverfit)\n",
    "# treinar a maquina\n",
    "# fazer a predição\n",
    "Maquina_Preditiva = CatBoostClassifier(n_estimators=1000, max_depth=4, random_state=7)\n",
    "Maquina_Preditiva.fit(X_train, y_train)\n",
    "predicoes = Maquina_Preditiva.predict_proba(X_test)"
   ]
  },
  {
   "cell_type": "markdown",
   "metadata": {
    "id": "8s2fqlPPAsJT"
   },
   "source": [
    "# 5° Avaliação das Máquinas Preditivas "
   ]
  },
  {
   "cell_type": "code",
   "execution_count": 27,
   "metadata": {
    "ExecuteTime": {
     "end_time": "2021-02-27T16:55:31.485144Z",
     "start_time": "2021-02-27T16:55:30.669649Z"
    },
    "colab": {
     "base_uri": "https://localhost:8080/"
    },
    "id": "iZQHt85Amjft",
    "outputId": "41d7c4de-f3fc-4937-929e-65e5683fe7d4"
   },
   "outputs": [
    {
     "name": "stdout",
     "output_type": "stream",
     "text": [
      "Acurácia nos Dados de Teste: 80.103%\n"
     ]
    }
   ],
   "source": [
    "# Score do modelo nos dados de teste\n",
    "result = Maquina_Preditiva.score(X_test, y_test)\n",
    "print(\"Acurácia nos Dados de Teste: %.3f%%\" % (result * 100.0))\n",
    "\n",
    "# acuracia 80.103% de acertividade"
   ]
  },
  {
   "cell_type": "code",
   "execution_count": 28,
   "metadata": {
    "ExecuteTime": {
     "end_time": "2021-02-27T16:56:35.642264Z",
     "start_time": "2021-02-27T16:56:35.624277Z"
    },
    "colab": {
     "base_uri": "https://localhost:8080/"
    },
    "id": "0j8_9zt3onOh",
    "outputId": "33b40a3d-fa7f-4dae-b1d8-a25efbec04b9"
   },
   "outputs": [
    {
     "data": {
      "text/plain": [
       "array([21.36537105, 18.29694341, 25.21854051, 11.53187023,  1.84298933,\n",
       "        1.66553058,  0.92037955,  0.57402227,  0.60262598,  9.50784327,\n",
       "        6.34740699,  0.78616794,  0.56192349,  0.7783854 ])"
      ]
     },
     "execution_count": 28,
     "metadata": {},
     "output_type": "execute_result"
    }
   ],
   "source": [
    "# Determinar as Variáveis Mais Importantes\n",
    "Maquina_Preditiva.feature_importances_\n",
    "\n",
    "# 0 Estimated_Insects_Count     \n",
    "# 1   Number_Doses_Week          \n",
    "# 2   Number_Weeks_Used         \n",
    "# 3   Number_Weeks_Quit "
   ]
  },
  {
   "cell_type": "code",
   "execution_count": 29,
   "metadata": {
    "ExecuteTime": {
     "end_time": "2021-02-27T16:57:41.394975Z",
     "start_time": "2021-02-27T16:57:41.367991Z"
    },
    "colab": {
     "base_uri": "https://localhost:8080/"
    },
    "id": "k1gCqIQCpLiY",
    "outputId": "310751b2-51fc-4b59-9b6c-a51d017c1213"
   },
   "outputs": [
    {
     "name": "stdout",
     "output_type": "stream",
     "text": [
      "<class 'pandas.core.frame.DataFrame'>\n",
      "Int64Index: 79858 entries, 0 to 88857\n",
      "Data columns (total 15 columns):\n",
      " #   Column                    Non-Null Count  Dtype  \n",
      "---  ------                    --------------  -----  \n",
      " 0   Estimated_Insects_Count   79858 non-null  int64  \n",
      " 1   Number_Doses_Week         79858 non-null  int64  \n",
      " 2   Number_Weeks_Used         79858 non-null  float64\n",
      " 3   Number_Weeks_Quit         79858 non-null  int64  \n",
      " 4   Crop_Damage               79858 non-null  int64  \n",
      " 5   Crop_Type_0               79858 non-null  uint8  \n",
      " 6   Crop_Type_1               79858 non-null  uint8  \n",
      " 7   Soil_Type_0               79858 non-null  uint8  \n",
      " 8   Soil_Type_1               79858 non-null  uint8  \n",
      " 9   Pesticide_Use_Category_1  79858 non-null  uint8  \n",
      " 10  Pesticide_Use_Category_2  79858 non-null  uint8  \n",
      " 11  Pesticide_Use_Category_3  79858 non-null  uint8  \n",
      " 12  Season_1                  79858 non-null  uint8  \n",
      " 13  Season_2                  79858 non-null  uint8  \n",
      " 14  Season_3                  79858 non-null  uint8  \n",
      "dtypes: float64(1), int64(4), uint8(10)\n",
      "memory usage: 6.9 MB\n"
     ]
    }
   ],
   "source": [
    "train_d.info()"
   ]
  },
  {
   "cell_type": "markdown",
   "metadata": {
    "id": "_zM3cTnw8LX3"
   },
   "source": [
    "\n",
    "\n",
    "\n",
    "\n",
    "\n",
    "\n",
    "\n",
    "![](https://i.gifer.com/27cV.gif)"
   ]
  },
  {
   "cell_type": "code",
   "execution_count": null,
   "metadata": {
    "id": "VTK7ERTO8LrR"
   },
   "outputs": [],
   "source": []
  }
 ],
 "metadata": {
  "colab": {
   "collapsed_sections": [],
   "name": "Ciência de Dados no Agronegócio.ipynb",
   "provenance": []
  },
  "kernelspec": {
   "display_name": "Python 3",
   "language": "python",
   "name": "python3"
  },
  "language_info": {
   "codemirror_mode": {
    "name": "ipython",
    "version": 3
   },
   "file_extension": ".py",
   "mimetype": "text/x-python",
   "name": "python",
   "nbconvert_exporter": "python",
   "pygments_lexer": "ipython3",
   "version": "3.8.5"
  }
 },
 "nbformat": 4,
 "nbformat_minor": 1
}
